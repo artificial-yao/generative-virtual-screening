{
 "cells": [
  {
   "cell_type": "markdown",
   "metadata": {},
   "source": [
    "## NIM Agent Blueprint for Generative Virtual Screening in Drug Discovery\n",
    "This example notebook demonstrates how to connect BioNeMo NIMs to carry out a few key steps of a virtual screening workflow. Importantly, these steps are powered by highly performant AI models in each category: AlphaFold2 for folding, MolMIM for molecular generation, and DiffDock for protein-ligand docking.\n",
    "\n",
    "Below, we illustrate this workflow using an example protein and example molecule of interest, the SARS-CoV-2 main protease and Nirmatrelvir, however, the user is free to define any protein and molecule of their choosing.\n",
    "\n",
    "All of these capabilities are enabled by NVIDIA NIM and NVIDIA NIM Blueprints. For more details, please visit [NVIDIA NIM Blueprints](https://build.nvidia.com/nim/blueprints).\n",
    "\n",
    "### BioNeMo Configurations\n",
    "Before you begin, please set the NGC_CLI_API_KEY environment variable to a personal run key for your NGC Org and Team before running docker compose. Then, you can spin the NIMs up using the following docker command from the same directory as the `docker-compose.yaml`:\n",
    "\n",
    "`docker compose up`"
   ]
  },
  {
   "cell_type": "code",
   "execution_count": 15,
   "metadata": {},
   "outputs": [],
   "source": [
    "import requests\n",
    "\n",
    "#AF2_HOST = 'http://localhost:8081'\n",
    "DIFFDOCK_HOST = 'http://localhost:8082'\n",
    "MOLMIM_HOST = 'http://localhost:8083'"
   ]
  },
  {
   "cell_type": "code",
   "execution_count": 29,
   "metadata": {},
   "outputs": [],
   "source": [
    "import os\n",
    "import shutil\n",
    "import json\n",
    "import pandas as pd"
   ]
  },
  {
   "cell_type": "markdown",
   "metadata": {},
   "source": [
    "### Get folded protein "
   ]
  },
  {
   "cell_type": "code",
   "execution_count": 17,
   "metadata": {},
   "outputs": [],
   "source": [
    "import sys\n",
    "sys.path.append(\"..\")\n",
    "\n",
    "from src import utils"
   ]
  },
  {
   "cell_type": "code",
   "execution_count": 18,
   "metadata": {},
   "outputs": [
    {
     "name": "stdout",
     "output_type": "stream",
     "text": [
      "<module 'src.utils' from '/home/substrate/projects/generative-virtual-screening/notebooks/../src/utils.py'>\n"
     ]
    }
   ],
   "source": [
    "print(utils)"
   ]
  },
  {
   "cell_type": "code",
   "execution_count": 19,
   "metadata": {},
   "outputs": [],
   "source": [
    "\n",
    "# predicted target protein file path\n",
    "protein_file_path = \"../data/protein_input_files/mpro_sarscov2.pdb\"\n",
    "\n",
    "# TODO: to be replaced by utils\n",
    "def file_to_json_compatible_string(file_path):\n",
    "    \"\"\"\n",
    "    Convert PDB file and sdf file to JSON\n",
    "    \"\"\"\n",
    "    with open(file_path, 'r') as file:\n",
    "        content_str = file.read()\n",
    "    return content_str\n",
    "\n",
    "folded_protein = file_to_json_compatible_string(protein_file_path)\n",
    "#folded_protein = utils.file_to_json_compatible_string(protein_file_path)"
   ]
  },
  {
   "cell_type": "markdown",
   "metadata": {},
   "source": [
    "### Molecular Generation with MolMIM\n",
    "The next step in our workflow is generating molecules with optimized chemical properties starting from a seed molecule of interest. Here, molecular generation is powered by MolMIM, an LLM-inspired model aimed at generating and optimizing molecules according to user-defined objectives. The \"MIM\" part of MolMIM stands for Mutual Information Machine, which describes the mutual-information-based loss used to preserve chemical similarity in the model's latent space.\n",
    "\n",
    "Here, we begin with Nirmatrelvir, an active component of the Covid treatment Paxlovid, aimed at targeting the SARS-CoV-2 main protease. By using this molecule as the input to MolMIM, the model will return 5 generated molecules with the highest chemical similarity to MolMIM. The user is able to specify the number of generated molecules to return when querying the MolMIM NIM.\n",
    "\n",
    "Additionally, the user is able to specify chemical properties to optimize for. In this example, we have chosen to optimize the Quantitative Estimate of Drug-Likeness (QED) score, to produce molecules with favorable pharmacokinetic properties.\n",
    "\n",
    "Note especially that here we're using the `/generate` endpoint of the MolMIM NIM.  But MolMIM was designed for controlled generation with user-defined oracles.  For this type of application you will want to call the `/decode` endpoint.  See the [documentation](https://docs.nvidia.com/nim/bionemo/molmim/latest/overview.html#decode) and [example notebook](https://github.com/NVIDIA/BioNeMo/blob/main/examples/service/notebooks/cma_custom_oracles.ipynb) for additional information about using user-defined oracles."
   ]
  },
  {
   "cell_type": "code",
   "execution_count": 37,
   "metadata": {},
   "outputs": [
    {
     "name": "stdout",
     "output_type": "stream",
     "text": [
      "Ensitrelvir\n"
     ]
    }
   ],
   "source": [
    "# Nirmatrelvir\n",
    "#molecule = \"CC1(C2C1C(N(C2)C(=O)C(C(C)(C)C)NC(=O)C(F)(F)F)C(=O)NC(CC3CCNC3=O)C#N)C\"\n",
    "#molecule_name = \"Nirmatrelvir\"\n",
    "\n",
    "df_starting_molecules = pd.read_csv('../data/starting_molecule_smiles.csv')\n",
    "molecule_name = df_starting_molecules['Molecules'][1]\n",
    "molecule = df_starting_molecules['Smiles'][1]\n",
    "\n",
    "print(molecule_name)"
   ]
  },
  {
   "cell_type": "code",
   "execution_count": 38,
   "metadata": {},
   "outputs": [],
   "source": [
    "molmim_response = requests.post(\n",
    "    f'{MOLMIM_HOST}/generate',\n",
    "    json={\n",
    "        'smi': molecule,\n",
    "        'num_molecules': 5,\n",
    "        'algorithm': 'CMA-ES',\n",
    "        'property_name': 'QED',\n",
    "        'min_similarity': 0.7, # Ignored if algorithm is not \"CMA-ES\".\n",
    "        'iterations': 10,\n",
    "    }).json()"
   ]
  },
  {
   "cell_type": "code",
   "execution_count": 39,
   "metadata": {},
   "outputs": [],
   "source": [
    "generated_ligands = '\\n'.join([v['smiles'] for v in molmim_response['generated']])"
   ]
  },
  {
   "cell_type": "code",
   "execution_count": 40,
   "metadata": {},
   "outputs": [
    {
     "data": {
      "text/plain": [
       "[{'smiles': 'Cn1cnc(Cn2c(C3CC3)nnc2N2CCC3(CC2)CNC(=O)O3)n1',\n",
       "  'score': 0.8442242269672793},\n",
       " {'smiles': 'CCC(CC)Cn1c(=O)n(CC)c2nc([C@@H]3C[C@@H]3CF)[nH]c(=O)c21',\n",
       "  'score': 0.843761038525724},\n",
       " {'smiles': 'Cn1cnc(Cn2c(=S)nc(C3CC3)c3c2CCC3)n1',\n",
       "  'score': 0.8117135601035452},\n",
       " {'smiles': 'Cn1cnc(Cn2nnnc2N(CC2CC2)C2CCCCC2)n1',\n",
       "  'score': 0.8014490677244476},\n",
       " {'smiles': 'CCC(CC)(CNC(=O)c1cccc(-c2nc(C3CC3)no2)c1)OC',\n",
       "  'score': 0.7929591862954889}]"
      ]
     },
     "execution_count": 40,
     "metadata": {},
     "output_type": "execute_result"
    }
   ],
   "source": [
    "molmim_response['generated']"
   ]
  },
  {
   "cell_type": "code",
   "execution_count": 41,
   "metadata": {},
   "outputs": [],
   "source": [
    "molmim_generated_csv = '../data/molmim_generated_molecules.csv'\n",
    "\n",
    "# TODO: to be moved into utils.py\n",
    "def update_dataframe_molmim_generated_molecules(molmim_generated, starting_molecule_name, store_dataframe=True):\n",
    "    import pandas as pd\n",
    "\n",
    "    df = pd.DataFrame(molmim_generated)\n",
    "    # Reset the index and make it a column\n",
    "    df.reset_index(inplace=True)\n",
    "    df.rename(columns={'smiles':'generated_smiles',\n",
    "                    'score':'molmim_qed_score',\n",
    "                    'index':'generated_compound_index'},\n",
    "                    inplace=True)\n",
    "    df['starting_molecule'] = starting_molecule_name\n",
    "\n",
    "    if store_dataframe:\n",
    "        df.to_csv(molmim_generated_csv, index=False)\n",
    "\n",
    "update_dataframe_molmim_generated_molecules(molmim_response['generated'], molecule_name)"
   ]
  },
  {
   "cell_type": "markdown",
   "metadata": {},
   "source": [
    "### Protein-Ligand Docking with DiffDock\n",
    "\n",
    "After obtaining the molecules with optimized QED scores, we can predict their binding poses to the receptor target. Here, we apply DiffDock, a state-of-the-art generative model that predicts the 3D structure of a protein-ligand complex, to find out the best (most probable) binding poses. A highlighted feature from DiffDock is that a presumed binding pocket, which usually can be characterized only from experimental 3D structures, is not needed (a.k.a., blind-docking). This feature is very useful for AI folded protein structures, as it is able to locate all regions on the protein surface to be bound by drug molecules, providing ingishts for further downstream investigations.\n",
    "\n",
    "The optimized DiffDock also provides the batch-docking function, by which we can concatenate multiple molecules into one request of docking, each of them will be also sampled for mulitple poses (i.e., num_poses=10 in this example). In the output, the predicted docking poses for each molecule is sorted by a confidence score that inferenced from a confidence model."
   ]
  },
  {
   "cell_type": "code",
   "execution_count": 25,
   "metadata": {},
   "outputs": [],
   "source": [
    "diffdock_response = requests.post(\n",
    "    f'{DIFFDOCK_HOST}/molecular-docking/diffdock/generate',\n",
    "    json={\n",
    "        'protein': folded_protein,\n",
    "        'ligand': generated_ligands,\n",
    "        'ligand_file_type': 'txt',\n",
    "        'num_poses': 10,\n",
    "        'time_divisions': 20,\n",
    "        'num_steps': 18,\n",
    "    }).json()"
   ]
  },
  {
   "cell_type": "code",
   "execution_count": 26,
   "metadata": {},
   "outputs": [],
   "source": [
    "# overwrite the output directory\n",
    "def prepare_output_directory(output):\n",
    "    \"\"\"\n",
    "    Prepare the output directory\n",
    "    output: str, the output directory\n",
    "    return: None\n",
    "    \"\"\"\n",
    "    # overwrite the output directory\n",
    "    # delete the output directory if it exists\n",
    "    if os.path.exists(output):\n",
    "        shutil.rmtree(output)\n",
    "    os.makedirs(output)\n",
    "    \n",
    "diffdock_output_dir = \"../data/diffdock_outputs/\"\n",
    "prepare_output_directory(diffdock_output_dir)\n",
    "\n",
    "dsmbind_input_dir = \"../data/dsmbind_inputs\"\n",
    "prepare_output_directory(dsmbind_input_dir)"
   ]
  },
  {
   "cell_type": "code",
   "execution_count": 27,
   "metadata": {},
   "outputs": [],
   "source": [
    "for i in range(len(diffdock_response['ligand_positions'])):\n",
    "    ligand_subfolder_name = molecule_name + \"_compound\" + str(i)\n",
    "    ligand_subfolder_in_diffdock = os.path.join(diffdock_output_dir, ligand_subfolder_name)\n",
    "    prepare_output_directory(ligand_subfolder_in_diffdock)\n",
    "    with open(f\"{diffdock_output_dir}/output.json\", \"w\") as f:\n",
    "        json.dump(diffdock_response, f)\n",
    "    \n",
    "    # save data in DSMBind input format\n",
    "    ligand_subfolder_in_dsmbind = os.path.join(dsmbind_input_dir, ligand_subfolder_name)\n",
    "    prepare_output_directory(ligand_subfolder_in_dsmbind)\n",
    "    # Copy protein file into DSMBind subfolders\n",
    "    shutil.copy(protein_file_path, ligand_subfolder_in_dsmbind) \n",
    "\n",
    "    # save ligand positions\n",
    "    for j, ligand_geometry in enumerate(diffdock_response[\"ligand_positions\"][i]):\n",
    "        with open(\"{}/pose_{}.sdf\".format(ligand_subfolder_in_diffdock, j), \"w\") as f:\n",
    "            f.write(ligand_geometry)\n",
    "\n",
    "        if j == 0: # Save the best position for scoring\n",
    "            with open(\"{}/pose_{}.sdf\".format(ligand_subfolder_in_dsmbind, j), \"w\") as f:\n",
    "                f.write(ligand_geometry)\n",
    "            "
   ]
  },
  {
   "cell_type": "code",
   "execution_count": 28,
   "metadata": {},
   "outputs": [
    {
     "name": "stderr",
     "output_type": "stream",
     "text": [
      "/usr/local/lib/python3.10/dist-packages/transformers/utils/generic.py:441: FutureWarning: `torch.utils._pytree._register_pytree_node` is deprecated. Please use `torch.utils._pytree.register_pytree_node` instead.\n",
      "  _torch_pytree._register_pytree_node(\n",
      "[NeMo W 2024-12-17 19:25:44 nemo_logging:349] /usr/local/lib/python3.10/dist-packages/megatron/core/tensor_parallel/layers.py:257: FutureWarning: `torch.cuda.amp.custom_fwd(args...)` is deprecated. Please use `torch.amp.custom_fwd(args..., device_type='cuda')` instead.\n",
      "      def forward(\n",
      "    \n",
      "[NeMo W 2024-12-17 19:25:44 nemo_logging:349] /usr/local/lib/python3.10/dist-packages/megatron/core/tensor_parallel/layers.py:268: FutureWarning: `torch.cuda.amp.custom_bwd(args...)` is deprecated. Please use `torch.amp.custom_bwd(args..., device_type='cuda')` instead.\n",
      "      def backward(ctx, grad_output):\n",
      "    \n",
      "[NeMo W 2024-12-17 19:25:44 nemo_logging:349] /usr/local/lib/python3.10/dist-packages/megatron/core/tensor_parallel/layers.py:328: FutureWarning: `torch.cuda.amp.custom_fwd(args...)` is deprecated. Please use `torch.amp.custom_fwd(args..., device_type='cuda')` instead.\n",
      "      def forward(\n",
      "    \n",
      "[NeMo W 2024-12-17 19:25:44 nemo_logging:349] /usr/local/lib/python3.10/dist-packages/megatron/core/tensor_parallel/layers.py:363: FutureWarning: `torch.cuda.amp.custom_bwd(args...)` is deprecated. Please use `torch.amp.custom_bwd(args..., device_type='cuda')` instead.\n",
      "      def backward(ctx, grad_output):\n",
      "    \n",
      "[NeMo W 2024-12-17 19:26:00 nemo_logging:349] /usr/local/lib/python3.10/dist-packages/transformers/utils/generic.py:309: FutureWarning: `torch.utils._pytree._register_pytree_node` is deprecated. Please use `torch.utils._pytree.register_pytree_node` instead.\n",
      "      _torch_pytree._register_pytree_node(\n",
      "    \n",
      "Failed to find the pandas get_adjustment() function to patch\n",
      "Failed to patch pandas - PandasTools will have limited functionality\n",
      "[NeMo W 2024-12-17 19:26:23 nemo_logging:349] /usr/local/lib/python3.10/dist-packages/anndata/utils.py:429: FutureWarning: Importing read_csv from `anndata` is deprecated. Import anndata.io.read_csv instead.\n",
      "      warnings.warn(msg, FutureWarning)\n",
      "    \n",
      "[NeMo W 2024-12-17 19:26:23 nemo_logging:349] /usr/local/lib/python3.10/dist-packages/anndata/utils.py:429: FutureWarning: Importing read_excel from `anndata` is deprecated. Import anndata.io.read_excel instead.\n",
      "      warnings.warn(msg, FutureWarning)\n",
      "    \n",
      "[NeMo W 2024-12-17 19:26:23 nemo_logging:349] /usr/local/lib/python3.10/dist-packages/anndata/utils.py:429: FutureWarning: Importing read_hdf from `anndata` is deprecated. Import anndata.io.read_hdf instead.\n",
      "      warnings.warn(msg, FutureWarning)\n",
      "    \n",
      "[NeMo W 2024-12-17 19:26:23 nemo_logging:349] /usr/local/lib/python3.10/dist-packages/anndata/utils.py:429: FutureWarning: Importing read_loom from `anndata` is deprecated. Import anndata.io.read_loom instead.\n",
      "      warnings.warn(msg, FutureWarning)\n",
      "    \n",
      "[NeMo W 2024-12-17 19:26:23 nemo_logging:349] /usr/local/lib/python3.10/dist-packages/anndata/utils.py:429: FutureWarning: Importing read_mtx from `anndata` is deprecated. Import anndata.io.read_mtx instead.\n",
      "      warnings.warn(msg, FutureWarning)\n",
      "    \n",
      "[NeMo W 2024-12-17 19:26:23 nemo_logging:349] /usr/local/lib/python3.10/dist-packages/anndata/utils.py:429: FutureWarning: Importing read_text from `anndata` is deprecated. Import anndata.io.read_text instead.\n",
      "      warnings.warn(msg, FutureWarning)\n",
      "    \n",
      "[NeMo W 2024-12-17 19:26:23 nemo_logging:349] /usr/local/lib/python3.10/dist-packages/anndata/utils.py:429: FutureWarning: Importing read_umi_tools from `anndata` is deprecated. Import anndata.io.read_umi_tools instead.\n",
      "      warnings.warn(msg, FutureWarning)\n",
      "    \n"
     ]
    },
    {
     "name": "stdout",
     "output_type": "stream",
     "text": [
      "[NeMo I 2024-12-17 19:26:23 megatron_hiddens:110] Registered hidden transform sampled_var_cond_gaussian at bionemo.model.core.hiddens_support.SampledVarGaussianHiddenTransform\n",
      "[NeMo I 2024-12-17 19:26:23 megatron_hiddens:110] Registered hidden transform interp_var_cond_gaussian at bionemo.model.core.hiddens_support.InterpVarGaussianHiddenTransform\n"
     ]
    },
    {
     "name": "stderr",
     "output_type": "stream",
     "text": [
      "[NeMo W 2024-12-17 19:26:26 nemo_logging:349] /usr/local/lib/python3.10/dist-packages/hydra/_internal/hydra.py:119: UserWarning: Future Hydra versions will no longer change working directory at job runtime by default.\n",
      "    See https://hydra.cc/docs/1.2/upgrades/1.1_to_1.2/changes_to_job_working_dir/ for more information.\n",
      "      ret = run_job(\n",
      "    \n"
     ]
    },
    {
     "name": "stdout",
     "output_type": "stream",
     "text": [
      "[NeMo I 2024-12-17 19:26:26 infer:68] \n",
      "    \n",
      "    ************** Experiment Configuration ***********\n",
      "[NeMo I 2024-12-17 19:26:26 infer:69] \n",
      "    data:\n",
      "      processed: false\n",
      "      raw_inference_data_dir: ${oc.env:BIONEMO_HOME}/generative-virtual-screening/data/dsmbind_inputs\n",
      "      predictions_csv: ${oc.env:BIONEMO_HOME}/generative-virtual-screening/data/dsmbind_predictions.csv\n",
      "      processed_inference_data_path: ${oc.env:BIONEMO_HOME}/examples/tests/test_data/molecule/dsmbind/inference/processed.pkl\n",
      "    model:\n",
      "      hidden_size: 256\n",
      "      mpn_depth: 3\n",
      "      num_heads: 4\n",
      "      dropout: 0.1\n",
      "      threshold: 10.0\n",
      "      vocab_size: 38\n",
      "      aa_size: 21\n",
      "      max_residue_atoms: 14\n",
      "    inference:\n",
      "      num_gpus: 1\n",
      "      ckpt_path: ${oc.env:BIONEMO_HOME}/models/molecule/dsmbind/dsmbind.pth\n",
      "    \n",
      "[NeMo I 2024-12-17 19:26:26 infer:75] ************** Load Trained Model ***********\n",
      "[NeMo I 2024-12-17 19:26:28 infer:82] # Model parameters: 1019136\n",
      "[NeMo I 2024-12-17 19:26:29 infer:94] ************** Processing Inference Dataset ***********\n"
     ]
    },
    {
     "name": "stderr",
     "output_type": "stream",
     "text": [
      "  0%|          | 0/5 [00:00<?, ?it/s][NeMo W 2024-12-17 19:26:30 nemo_logging:349] /usr/local/lib/python3.10/dist-packages/Bio/PDB/PDBParser.py:395: PDBConstructionWarning: Ignoring unrecognized record 'END' at line 2332\n",
      "      warnings.warn(\n",
      "    \n",
      "Failed to patch pandas - unable to change molecule rendering\n",
      " 20%|██        | 1/5 [00:00<00:00,  9.52it/s][NeMo W 2024-12-17 19:26:30 nemo_logging:349] /usr/local/lib/python3.10/dist-packages/Bio/PDB/PDBParser.py:395: PDBConstructionWarning: Ignoring unrecognized record 'END' at line 2332\n",
      "      warnings.warn(\n",
      "    \n",
      "Failed to patch pandas - unable to change molecule rendering\n",
      "[NeMo W 2024-12-17 19:26:30 nemo_logging:349] /usr/local/lib/python3.10/dist-packages/Bio/PDB/PDBParser.py:395: PDBConstructionWarning: Ignoring unrecognized record 'END' at line 2332\n",
      "      warnings.warn(\n",
      "    \n",
      "Failed to patch pandas - unable to change molecule rendering\n",
      "[NeMo W 2024-12-17 19:26:30 nemo_logging:349] /usr/local/lib/python3.10/dist-packages/Bio/PDB/PDBParser.py:395: PDBConstructionWarning: Ignoring unrecognized record 'END' at line 2332\n",
      "      warnings.warn(\n",
      "    \n",
      "Failed to patch pandas - unable to change molecule rendering\n",
      "[NeMo W 2024-12-17 19:26:30 nemo_logging:349] /usr/local/lib/python3.10/dist-packages/Bio/PDB/PDBParser.py:395: PDBConstructionWarning: Ignoring unrecognized record 'END' at line 2332\n",
      "      warnings.warn(\n",
      "    \n",
      "Failed to patch pandas - unable to change molecule rendering\n",
      "100%|██████████| 5/5 [00:00<00:00, 24.18it/s]"
     ]
    },
    {
     "name": "stdout",
     "output_type": "stream",
     "text": [
      "[NeMo I 2024-12-17 19:26:30 infer:96] ************** Loading Inference Dataset ***********\n"
     ]
    },
    {
     "name": "stderr",
     "output_type": "stream",
     "text": [
      "\n",
      "100%|██████████| 5/5 [00:00<00:00,  8.89it/s]"
     ]
    },
    {
     "name": "stdout",
     "output_type": "stream",
     "text": [
      "[NeMo I 2024-12-17 19:26:30 infer:104] ************** Starting Inference ***********\n"
     ]
    },
    {
     "name": "stderr",
     "output_type": "stream",
     "text": [
      "\n"
     ]
    },
    {
     "name": "stdout",
     "output_type": "stream",
     "text": [
      "[NeMo I 2024-12-17 19:26:42 infer:106] Predictions: [-1499583.125, -1607839.375, -1794128.25, -1783053.75, -1524778.625]\n"
     ]
    }
   ],
   "source": [
    "%run -i /workspace/bionemo/examples/molecule/dsmbind/infer.py"
   ]
  },
  {
   "cell_type": "code",
   "execution_count": 32,
   "metadata": {},
   "outputs": [],
   "source": [
    "df_molmim = pd.read_csv(molmim_generated_csv) \n",
    "df_dsmbind = pd.read_csv('../data/dsmbind_predictions.csv')\n",
    "df_joined = pd.concat([df_molmim, df_dsmbind], axis=1)\n",
    "\n",
    "df_joined.to_csv('../data/results.csv')"
   ]
  },
  {
   "cell_type": "code",
   "execution_count": null,
   "metadata": {},
   "outputs": [],
   "source": []
  }
 ],
 "metadata": {
  "kernelspec": {
   "display_name": "Python 3",
   "language": "python",
   "name": "python3"
  },
  "language_info": {
   "codemirror_mode": {
    "name": "ipython",
    "version": 3
   },
   "file_extension": ".py",
   "mimetype": "text/x-python",
   "name": "python",
   "nbconvert_exporter": "python",
   "pygments_lexer": "ipython3",
   "version": "3.10.12"
  }
 },
 "nbformat": 4,
 "nbformat_minor": 4
}

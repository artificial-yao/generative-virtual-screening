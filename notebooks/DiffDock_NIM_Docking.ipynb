{
 "cells": [
  {
   "cell_type": "markdown",
   "id": "c6e35a705fb30113",
   "metadata": {
    "tags": []
   },
   "source": [
    "# Predict Protein-Ligand 3D Interactions Using DiffDock NIM"
   ]
  },
  {
   "cell_type": "markdown",
   "id": "1bea768d-6315-4ba7-803c-28b94da02015",
   "metadata": {},
   "source": [
    "This example notebook shows how to connect NVIDIA DiffDock NIM to perform protein-ligand docking. NVIDIA BioNeMo NIMS can be integrated into existing virtual screening workflows to leverage cutting edge Gen-AI capabilities for Drug discovery, from ligand generation to protein folding to docking. For more details, please visit the NVIDIA BioNeMo NIMS homepage at https://build.nvidia.com/explore/healthcare "
   ]
  },
  {
   "cell_type": "markdown",
   "id": "38e85ada-52bc-4b79-b1fc-6da346bac946",
   "metadata": {
    "jp-MarkdownHeadingCollapsed": true,
    "tags": []
   },
   "source": [
    "## 1. Get the Diffdock NIM up and running"
   ]
  },
  {
   "cell_type": "markdown",
   "id": "2b3feba4",
   "metadata": {
    "jp-MarkdownHeadingCollapsed": true,
    "tags": []
   },
   "source": [
    "Please visit [NVIDIA DiffDock NIM](https://build.nvidia.com/explore/healthcare?snippet_tab=Docker&self_hosted_api=true#diffdock) and [DiffDock NIMS documentation page](https://docs.nvidia.com/nim/bionemo/diffdock/latest/overview.html) for more details and examples.\n",
    "\n",
    "### 1.1 Perform the following steps on the node intended for hosting the DiffDock NIM\n",
    "\n",
    "\n",
    "1. Open a Terminal.\n",
    "2. Run `docker login --username '$oauthtoken' --password $NGC_API_KEY nvcr.io`\n",
    "\n",
    "\n",
    "### 1.2 Start here\n",
    "3. Run the following command to download and start the DiffDock server. It will pull the docker container and the required model weight from NGC. \n",
    "\n",
    "```bash\n",
    "    export NGC_API_KEY=<PASTE_API_KEY_HERE>\n",
    "\n",
    "    docker run -it --rm \\\n",
    "        --runtime=nvidia -e NVIDIA_VISIBLE_DEVICES=0 \\\n",
    "        --shm-size=2G \\\n",
    "        --ulimit memlock=-1 \\\n",
    "        --ulimit stack=67108864 \\\n",
    "        -e NGC_API_KEY=$NGC_API_KEY \\\n",
    "        -p 8000:8000 \\\n",
    "        nvcr.io/nim/mit/diffdock:1.2.0\n",
    " ```\n",
    "\n",
    "4. You may return to this notebook and start the following cells once you see a response like this on your terminal:\n",
    "\n",
    " ```\n",
    "    I0421 21:04:17.461556 81 grpc_server.cc:2519] Started GRPCInferenceService at 0.0.0.0:8001\n",
    "    I0421 21:04:17.461909 81 http_server.cc:4637] Started HTTPService at 0.0.0.0:8000\n",
    "    I0421 21:04:17.503485 81 http_server.cc:320] Started Metrics Service at 0.0.0.0:8002\n",
    " ```\n"
   ]
  },
  {
   "cell_type": "markdown",
   "id": "782a19b86c9b4196",
   "metadata": {
    "tags": []
   },
   "source": [
    "## 2. Setup directories and verify NIM endpoints"
   ]
  },
  {
   "cell_type": "markdown",
   "id": "6e3d209b-44d8-4cfb-96ef-a7eb71e62980",
   "metadata": {},
   "source": [
    "In this step, we will setup the directories and configure NIM endpoints for DiffDock inferencing.\n",
    "\n",
    "__NOTE:__ In the following code, update the `base_url` to match with the URL of the node running DiffDock NIM.\n",
    "\n",
    "Please make sure the required packages and dependencies are installed. You may install the required packages using the following `pip install` command."
   ]
  },
  {
   "cell_type": "code",
   "execution_count": 13,
   "id": "22647422-36d2-4a72-9409-82251dbcc82d",
   "metadata": {},
   "outputs": [],
   "source": [
    "#!pip install ipykernel\n",
    "# !pip install ipywidgets loguru py3dmol rdkit"
   ]
  },
  {
   "cell_type": "code",
   "execution_count": 14,
   "id": "cfc852027a85e810",
   "metadata": {
    "ExecuteTime": {
     "end_time": "2024-04-25T03:59:31.312563Z",
     "start_time": "2024-04-25T03:59:31.309546Z"
    }
   },
   "outputs": [],
   "source": [
    "import time\n",
    "import os\n",
    "import shutil\n",
    "import json\n",
    "import requests\n",
    "from loguru import logger\n",
    "import subprocess\n",
    "\n",
    "# overwrite the output directory\n",
    "def prepare_output_directory(output):\n",
    "    \"\"\"\n",
    "    Prepare the output directory\n",
    "    output: str, the output directory\n",
    "    return: None\n",
    "    \"\"\"\n",
    "    # overwrite the output directory\n",
    "    # delete the output directory if it exists\n",
    "    if os.path.exists(output):\n",
    "        shutil.rmtree(output)\n",
    "    os.makedirs(output)\n",
    "    \n",
    "output_dir = \"./output/diffdock_result/\"\n",
    "prepare_output_directory(output_dir)\n",
    "\n",
    "\n",
    "base_url='http://localhost:8082'         # UPDATE the url if required\n",
    "#base_url=\"http://0.0.0.0:8000/\"          # UPDATE the url if required\n",
    "query_url = base_url + \"/molecular-docking/diffdock/generate\"\n",
    "health_check_url = base_url + \"/v1/health/ready\"\n"
   ]
  },
  {
   "cell_type": "markdown",
   "id": "2c46740e7adc4326",
   "metadata": {
    "tags": []
   },
   "source": [
    "### 2.1 Run Healthcheck"
   ]
  },
  {
   "cell_type": "markdown",
   "id": "f6aa04e8-b7c9-4cae-854a-229d94269600",
   "metadata": {},
   "source": [
    "This is to ensure the DiffDock inference endpoint is reachable and the NIMS is up and running. It will return `true` if that is the case."
   ]
  },
  {
   "cell_type": "code",
   "execution_count": 15,
   "id": "c4d0f6fb87b2971a",
   "metadata": {
    "ExecuteTime": {
     "end_time": "2024-04-25T03:36:52.006720Z",
     "start_time": "2024-04-25T03:36:51.660058Z"
    }
   },
   "outputs": [
    {
     "data": {
      "text/plain": [
       "'true'"
      ]
     },
     "execution_count": 15,
     "metadata": {},
     "output_type": "execute_result"
    }
   ],
   "source": [
    "# check health of the DiffDock NIM endpoint\n",
    "response = requests.get(health_check_url)\n",
    "response.text"
   ]
  },
  {
   "cell_type": "markdown",
   "id": "ccf7ef02816593bc",
   "metadata": {
    "tags": []
   },
   "source": [
    "## 3. Perform DiffDock docking inferencing"
   ]
  },
  {
   "cell_type": "markdown",
   "id": "9bacc7c4-06ea-4d7a-8dd5-557270bc70ae",
   "metadata": {},
   "source": [
    "Now that we have the DiffDock NIM up and running, and the inference endpoint is available for docking inference, we will submit a docking request.\n",
    "\n",
    "Protein-ligand Docking request requires an input protein coordinates (in PDB format) and a ligand input file (in SDF, MOL or SMILES format).\n"
   ]
  },
  {
   "cell_type": "code",
   "execution_count": 16,
   "id": "964aeac9eecfb857",
   "metadata": {
    "ExecuteTime": {
     "end_time": "2024-04-25T03:36:58.583380Z",
     "start_time": "2024-04-25T03:36:58.578018Z"
    }
   },
   "outputs": [
    {
     "name": "stdout",
     "output_type": "stream",
     "text": [
      "Input ligand files:  ['compound_1.sdf', 'compound_2.sdf', 'compound_3.sdf', 'compound_4.sdf']\n"
     ]
    }
   ],
   "source": [
    "# predicted target protein file path\n",
    "protein_file_path = \"./protein_input_file/mpro_sarscov2.pdb\"\n",
    "\n",
    "# clean SDF file directory generated from MolMIM\n",
    "sdf_dir = \"./ligand_input_files\"\n",
    "\n",
    "# Load and sort ligand files based on the numeric part in the filename (molecule_0, molecule_1, molecule_2 ....)\n",
    "sdf_files = [f for f in os.listdir(sdf_dir) if f.endswith(\".sdf\")]\n",
    "sdf_files.sort(key=lambda x: int(x.split(\"_\")[1].split(\".\")[0]))\n",
    "\n",
    "# get name of the sdf files\n",
    "ligand_names = [os.path.basename(f).split(\".\")[0] for f in sdf_files]\n",
    "\n",
    "print('Input ligand files: ', sdf_files)"
   ]
  },
  {
   "cell_type": "markdown",
   "id": "a5c82115-db9e-42c2-b7be-bee38f87a405",
   "metadata": {},
   "source": [
    "In the following code block, we're defining the `run_diffdock` function that prepares the input arguments for DiffDock inference request in a JSON format, and saves the inference output received from the DiffDock NIM."
   ]
  },
  {
   "cell_type": "code",
   "execution_count": 17,
   "id": "e2a84403b3ffc7e8",
   "metadata": {
    "ExecuteTime": {
     "end_time": "2024-04-25T03:39:08.435139Z",
     "start_time": "2024-04-25T03:37:06.175269Z"
    }
   },
   "outputs": [],
   "source": [
    "# preparing and formatting the input arguments for DiffDock inference request, and saving the results in output.json file\n",
    "def run_diffdock(query_url, protein_file_path, ligand_file_path):\n",
    "    \"\"\"\n",
    "    Main function to run the molecular docking\n",
    "    :param query_url: str, the url to send the request to\n",
    "    :param protein_file_path: str, path to the protein file\n",
    "    :param ligand_file_path: str, path to the ligand file\n",
    "    return JSON response\n",
    "    \"\"\"\n",
    "\n",
    "    protein_bytes = file_to_json_compatible_string(protein_file_path)\n",
    "    ligand_bytes = file_to_json_compatible_string(ligand_file_path)\n",
    "\n",
    "    data = {\n",
    "        \"ligand\": ligand_bytes,\n",
    "        \"ligand_file_type\": \"sdf\",\n",
    "        \"protein\": protein_bytes,\n",
    "        \"num_poses\": 10,\n",
    "        \"time_divisions\": 20,\n",
    "        \"steps\": 18,\n",
    "        \"save_trajectory\": False,  # diffusion trajectory\n",
    "        \"is_staged\": False\n",
    "    }\n",
    "\n",
    "    headers = {\"Content-Type\": \"application/json\"}\n",
    "\n",
    "    response = requests.post(query_url, headers=headers, json=data)\n",
    "\n",
    "    if response.status_code == 200:\n",
    "        print(\"Request successful, output saved to output.json\")\n",
    "    else:\n",
    "        print(f\"Request failed with status code {response.status_code}\")\n",
    "        print(\"Response:\", response.text)\n",
    "\n",
    "    return response.json()\n",
    "\n",
    "# reading in the input PDB/SDF/SMILES files as a string to be used for JSON request\n",
    "def file_to_json_compatible_string(file_path):\n",
    "    \"\"\"\n",
    "    Convert PDB file and sdf file to JSON\n",
    "    \"\"\"\n",
    "    with open(file_path, 'r') as file:\n",
    "        content_str = file.read()\n",
    "    return content_str"
   ]
  },
  {
   "cell_type": "markdown",
   "id": "cac2ebcb-1813-415e-9950-7885f45811d0",
   "metadata": {},
   "source": [
    "In this example, we will submit a protein PDB file (Main protease subunit of the Sars-Cov-2 virus). For input small molecules, we will use four Ensitrelvir analogs in SDF format, generated using NVIDIA MolMIM NIM."
   ]
  },
  {
   "cell_type": "code",
   "execution_count": 18,
   "id": "6cac9eb3-e543-469b-83bd-0123bc8dbe21",
   "metadata": {},
   "outputs": [
    {
     "name": "stderr",
     "output_type": "stream",
     "text": [
      "\u001b[32m2024-12-16 22:11:19.294\u001b[0m | \u001b[34m\u001b[1mDEBUG   \u001b[0m | \u001b[36m__main__\u001b[0m:\u001b[36m<module>\u001b[0m:\u001b[36m14\u001b[0m - \u001b[34m\u001b[1mcompound_1 took 18.66 seconds\u001b[0m\n"
     ]
    },
    {
     "name": "stdout",
     "output_type": "stream",
     "text": [
      "Request successful, output saved to output.json\n"
     ]
    },
    {
     "name": "stderr",
     "output_type": "stream",
     "text": [
      "\u001b[32m2024-12-16 22:11:20.760\u001b[0m | \u001b[34m\u001b[1mDEBUG   \u001b[0m | \u001b[36m__main__\u001b[0m:\u001b[36m<module>\u001b[0m:\u001b[36m14\u001b[0m - \u001b[34m\u001b[1mcompound_2 took 1.46 seconds\u001b[0m\n"
     ]
    },
    {
     "name": "stdout",
     "output_type": "stream",
     "text": [
      "Request successful, output saved to output.json\n"
     ]
    },
    {
     "name": "stderr",
     "output_type": "stream",
     "text": [
      "\u001b[32m2024-12-16 22:11:22.318\u001b[0m | \u001b[34m\u001b[1mDEBUG   \u001b[0m | \u001b[36m__main__\u001b[0m:\u001b[36m<module>\u001b[0m:\u001b[36m14\u001b[0m - \u001b[34m\u001b[1mcompound_3 took 1.56 seconds\u001b[0m\n"
     ]
    },
    {
     "name": "stdout",
     "output_type": "stream",
     "text": [
      "Request successful, output saved to output.json\n"
     ]
    },
    {
     "name": "stderr",
     "output_type": "stream",
     "text": [
      "\u001b[32m2024-12-16 22:11:23.718\u001b[0m | \u001b[34m\u001b[1mDEBUG   \u001b[0m | \u001b[36m__main__\u001b[0m:\u001b[36m<module>\u001b[0m:\u001b[36m14\u001b[0m - \u001b[34m\u001b[1mcompound_4 took 1.40 seconds\u001b[0m\n"
     ]
    },
    {
     "name": "stdout",
     "output_type": "stream",
     "text": [
      "Request successful, output saved to output.json\n"
     ]
    }
   ],
   "source": [
    "# iterating over input files for DiffDock inference request submissions\n",
    "for ligand_file_path, ligand_name in zip(sdf_files, ligand_names):\n",
    "\n",
    "    start = time.time()\n",
    "    \n",
    "    # submitting inference request for docking pose predictions\n",
    "    result = run_diffdock(\n",
    "        query_url=query_url,\n",
    "        protein_file_path=protein_file_path,\n",
    "        ligand_file_path=os.path.join(sdf_dir, ligand_file_path),\n",
    "    )\n",
    "    \n",
    "    end = time.time()\n",
    "    logger.debug(f\"{ligand_name} took {end - start:.2f} seconds\")\n",
    "\n",
    "    # save result to output.json\n",
    "    ligand_output_dir = os.path.join(output_dir, ligand_name)\n",
    "    prepare_output_directory(ligand_output_dir)\n",
    "    with open(f\"{ligand_output_dir}/output.json\", \"w\") as f:\n",
    "        json.dump(result, f)\n",
    "\n",
    "    # save ligand positions\n",
    "    for i, ligand_geometry in enumerate(result[\"ligand_positions\"]):\n",
    "        with open(\"{}/pose_{}.sdf\".format(ligand_output_dir, i), \"w\") as f:\n",
    "            f.write(ligand_geometry)"
   ]
  },
  {
   "cell_type": "markdown",
   "id": "b7d5abe80903ccd6",
   "metadata": {
    "tags": []
   },
   "source": [
    "## 4. Visualize the docked poses"
   ]
  },
  {
   "cell_type": "markdown",
   "id": "9ee0f8a7-aff5-44e2-aeba-96d668dd3c4c",
   "metadata": {},
   "source": [
    "Now that we have received the DiffDock docking inference output saved as `output.json` file, we will use __`py3Dmol`__ to visualize the docking poses."
   ]
  },
  {
   "cell_type": "markdown",
   "id": "3535852351035817",
   "metadata": {},
   "source": [
    "Some of the fields in the __`output.json`__ file are:\n",
    "- `trajectory`: diffusion trajectory (empty unless `save_trajectory` is set to `True`)\n",
    "- `ligand_positions`: a list of docking poses\n",
    "- `ligand_scores`: a list of confidence scores for each docking pose\n",
    "- `protein`: input protein\n",
    "- `ligand`: input ligand\n",
    "\n",
    "Confidence score the logits of the probability that the docked pose has a RMSD < 2A compared to ground truth. Interpretation of confidence score (c) is based on the guideline provided by [github authors](https://github.com/gcorso/DiffDock?tab=readme-ov-file#faq--). \n",
    "```\n",
    "c > 0 : high confidence \n",
    "-1.5 < c < 0: moderate confidence \n",
    "c < -1.5: low confidence \n",
    "```\n"
   ]
  },
  {
   "cell_type": "markdown",
   "id": "57ad117b-4c52-4c1b-9331-092ad230847b",
   "metadata": {
    "tags": []
   },
   "source": [
    "### Molecular Viewer (py3Dmol)"
   ]
  },
  {
   "cell_type": "markdown",
   "id": "53dbf405-bf8c-4762-b933-638906c40631",
   "metadata": {},
   "source": [
    "In the following cell, we're configuring the __py3Dmol__ for visualizing the docking poses. "
   ]
  },
  {
   "cell_type": "code",
   "execution_count": 47,
   "id": "976d98ee-ef90-4a2c-ad8b-fc9207ed17d2",
   "metadata": {},
   "outputs": [
    {
     "name": "stdout",
     "output_type": "stream",
     "text": [
      "Number of poses loaded: 10\n"
     ]
    }
   ],
   "source": [
    "# Adding required libraries for an interactive protein-ligand docking visualization\n",
    "# Please run the folllowing pip install command to install necessary libraries before proceeding \n",
    "# !pip install py3Dmol rdkit ipywidgets\n",
    "\n",
    "import py3Dmol\n",
    "from rdkit import Chem\n",
    "import ipywidgets as widgets\n",
    "from IPython.display import display\n",
    "import glob\n",
    "import random\n",
    "\n",
    "# defining a function for color definitions for visualization\n",
    "def ansi_color(text, color):\n",
    "    \"\"\"Color text for console output\"\"\"\n",
    "    colors = {\n",
    "        \"red\": \"\\033[31m\",\n",
    "        \"green\": \"\\033[32m\",\n",
    "        \"yellow\": \"\\033[33m\",\n",
    "        \"blue\": \"\\033[34m\",\n",
    "        \"magenta\": \"\\033[35m\",\n",
    "        \"cyan\": \"\\033[36m\",\n",
    "        \"white\": \"\\033[37m\",\n",
    "        \"reset\": \"\\033[0m\"\n",
    "    }\n",
    "    return f\"{colors[color]}{text}{colors['reset']}\"\n",
    "\n",
    "# loading dock poses from the output SDF files extracted from the output.json 'positions' field\n",
    "def load_poses_from_sdf(directory):\n",
    "    sdf_files = glob.glob(f\"{directory}/*.sdf\")\n",
    "    poses = []\n",
    "    \n",
    "    for sdf_file in sdf_files:\n",
    "        supplier = Chem.SDMolSupplier(sdf_file)\n",
    "        for mol in supplier:\n",
    "            if mol is not None:\n",
    "                poses.append(mol)  \n",
    "    return poses\n",
    "\n",
    "# visualising the docking poses in an interactive manner, browsing docked poses using an embedded slider\n",
    "def update_viewer(pose_index):\n",
    "    \n",
    "    view = py3Dmol.view(width=1200, height=900)\n",
    "    \n",
    "    # Add the protein model\n",
    "    view.addModel(protein_pdb, 'pdb')\n",
    "    view.setStyle({'model': 0}, {'cartoon': {'color': 'white', 'opacity': 0.7}})\n",
    "    view.setViewStyle({'style':'outline','color':'black','width':0.03})\n",
    "    Prot=view.getModel()\n",
    "    Prot.setStyle({'cartoon':{'arrows':True, 'tubes':True, 'style':'oval', 'color':'white'}})\n",
    "    view.addSurface(py3Dmol.VDW,{'opacity':0.4,'color':'white'})\n",
    "    \n",
    "    # Add the selected docking pose\n",
    "    pose = poses[pose_index]\n",
    "    pose_block = Chem.MolToMolBlock(pose)\n",
    "    # color = \"#\"+''.join([random.choice('0123456789ABCDEF') for _ in range(6)])\n",
    "    view.addModel(pose_block, 'mol')\n",
    "    view.setStyle({'model': 1}, {'stick': {'radius': 0.3, 'colorscheme': 'magentaCarbon'}})\n",
    "    view.addSurface(py3Dmol.VDW, {'opacity': 0.7, 'colorscheme': 'magentaCarbon'}, {'model': 1})\n",
    "    score = round(confidence_scores[pose_index], 3)\n",
    "    score_color = \"green\" if score > -0.5 else \"blue\" if score >= -1.5 else \"red\"\n",
    "    print(f\"Loaded {ansi_color(ligand_name, 'magenta')} with confidence score: {ansi_color(confidence_scores[pose_index], score_color)}\")\n",
    "    view.zoomTo()\n",
    "    return view.update()\n",
    "\n",
    "# Load the protein model\n",
    "with open(protein_file_path, 'r') as f:\n",
    "    protein_pdb = f.read()\n",
    "\n",
    "# Specify the directory containing the dock poses in SDF format for a specific ligand\n",
    "ligand_name = \"compound_1\"\n",
    "directory = output_dir + ligand_name\n",
    "poses = load_poses_from_sdf(directory)\n",
    "\n",
    "# Verify the number of poses loaded\n",
    "print(f\"Number of poses loaded: {len(poses)}\")\n"
   ]
  },
  {
   "cell_type": "code",
   "execution_count": 48,
   "id": "4f9b2039",
   "metadata": {},
   "outputs": [
    {
     "data": {
      "application/vnd.jupyter.widget-view+json": {
       "model_id": "2a992ebbdc6a45859441c768c258abc5",
       "version_major": 2,
       "version_minor": 0
      },
      "text/plain": [
       "interactive(children=(IntSlider(value=0, continuous_update=False, description='Pose:', max=9), Output()), _dom…"
      ]
     },
     "metadata": {},
     "output_type": "display_data"
    },
    {
     "data": {
      "text/plain": [
       "<function __main__.update_viewer(pose_index)>"
      ]
     },
     "execution_count": 48,
     "metadata": {},
     "output_type": "execute_result"
    }
   ],
   "source": [
    "\n",
    "# Load confidence scores from output.json\n",
    "output_json_path = os.path.join(directory, 'output.json')\n",
    "with open(output_json_path, 'r') as file:\n",
    "    data = json.load(file)\n",
    "    confidence_scores = data['position_confidence']  # list of floats\n",
    "\n",
    "# Create a slider widget\n",
    "pose_slider = widgets.IntSlider(\n",
    "    value=0,\n",
    "    min=0,\n",
    "    max=len(poses) - 1,\n",
    "    step=1,\n",
    "    description='Pose:',\n",
    "    continuous_update=False,\n",
    "    orientation='horizontal',\n",
    "    readout=True,\n",
    "    readout_format='d'\n",
    ")\n",
    "\n",
    "# Link the slider to the viewer update function\n",
    "widgets.interact(update_viewer, pose_index=pose_slider)"
   ]
  },
  {
   "cell_type": "code",
   "execution_count": 41,
   "id": "bb700c23-0f14-410e-83e2-4cbd29e5c541",
   "metadata": {},
   "outputs": [
    {
     "data": {
      "text/plain": [
       "[-0.7557852864265442,\n",
       " -0.8466139435768127,\n",
       " -1.339681625366211,\n",
       " -1.5612828731536865,\n",
       " -1.6801718473434448,\n",
       " -1.9374333620071411,\n",
       " -1.9895213842391968,\n",
       " -2.184006929397583,\n",
       " -3.096402406692505,\n",
       " -3.7464139461517334]"
      ]
     },
     "execution_count": 41,
     "metadata": {},
     "output_type": "execute_result"
    }
   ],
   "source": [
    "confidence_scores"
   ]
  },
  {
   "cell_type": "code",
   "execution_count": null,
   "id": "6c5f39f6-2ccd-48e0-87ba-3aea3384e1f6",
   "metadata": {},
   "outputs": [],
   "source": []
  }
 ],
 "metadata": {
  "kernelspec": {
   "display_name": "Python 3 (ipykernel)",
   "language": "python",
   "name": "python3"
  },
  "language_info": {
   "codemirror_mode": {
    "name": "ipython",
    "version": 3
   },
   "file_extension": ".py",
   "mimetype": "text/x-python",
   "name": "python",
   "nbconvert_exporter": "python",
   "pygments_lexer": "ipython3",
   "version": "3.10.12"
  }
 },
 "nbformat": 4,
 "nbformat_minor": 5
}

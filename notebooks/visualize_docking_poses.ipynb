{
 "cells": [
  {
   "cell_type": "code",
   "execution_count": 9,
   "metadata": {},
   "outputs": [],
   "source": [
    "# Adding required libraries for an interactive protein-ligand docking visualization\n",
    "# Please run the folllowing pip install command to install necessary libraries before proceeding \n",
    "# !pip install py3Dmol rdkit ipywidgets\n",
    "\n",
    "import py3Dmol\n",
    "from rdkit import Chem\n",
    "import ipywidgets as widgets\n",
    "from IPython.display import display\n",
    "import glob\n",
    "import yaml\n",
    "import json\n",
    "import os\n",
    "\n",
    "import warnings\n",
    "warnings.filterwarnings('ignore')\n",
    "\n",
    "\n",
    "######## File paths ########\n",
    "with open(\"../configs/self-driving-demo.yaml\", \"r\") as f:\n",
    "    config = yaml.safe_load(f)\n",
    "\n",
    "protein_file_path = config['paths']['protein_file_path']\n",
    "diffdock_output_dir = config['paths']['diffdock_output_dir']\n",
    "dsmbind_input_dir = config['paths']['dsmbind_input_dir']\n",
    "\n",
    "starting_molecule_csv = config['paths']['starting_molecule_csv']\n",
    "molmim_generated_csv = config['paths']['molmim_generated_csv']\n",
    "dsmbind_predictions_csv = config['paths']['dsmbind_predictions_csv']\n",
    "results_csv = config['paths']['results_csv']"
   ]
  },
  {
   "cell_type": "code",
   "execution_count": 23,
   "metadata": {},
   "outputs": [],
   "source": [
    "\n",
    "# defining a function for color definitions for visualization\n",
    "def ansi_color(text, color):\n",
    "    \"\"\"Color text for console output\"\"\"\n",
    "    colors = {\n",
    "        \"red\": \"\\033[31m\",\n",
    "        \"green\": \"\\033[32m\",\n",
    "        \"yellow\": \"\\033[33m\",\n",
    "        \"blue\": \"\\033[34m\",\n",
    "        \"magenta\": \"\\033[35m\",\n",
    "        \"cyan\": \"\\033[36m\",\n",
    "        \"white\": \"\\033[37m\",\n",
    "        \"reset\": \"\\033[0m\"\n",
    "    }\n",
    "    return f\"{colors[color]}{text}{colors['reset']}\"\n",
    "\n",
    "# loading dock poses from the output SDF files extracted from the output.json 'positions' field\n",
    "def load_poses_from_sdf(directory):\n",
    "    sdf_files = glob.glob(f\"{directory}/*.sdf\")\n",
    "    poses = []\n",
    "    \n",
    "    for sdf_file in sdf_files:\n",
    "        print(\"sdf_file is \", sdf_file)\n",
    "        supplier = Chem.SDMolSupplier(sdf_file)\n",
    "        for mol in supplier:\n",
    "            if mol is not None:\n",
    "                poses.append(mol)  \n",
    "    return poses\n",
    "\n",
    "# visualising the docking poses in an interactive manner, browsing docked poses using an embedded slider\n",
    "def update_viewer(pose_index):\n",
    "    \n",
    "    view = py3Dmol.view(width=1200, height=900)\n",
    "    \n",
    "    # Add the protein model\n",
    "    view.addModel(protein_file_path, 'pdb')\n",
    "    view.setStyle({'model': 0}, {'cartoon': {'color': 'white', 'opacity': 0.7}})\n",
    "    view.setViewStyle({'style':'outline','color':'black','width':0.03})\n",
    "    Prot=view.getModel()\n",
    "    Prot.setStyle({'cartoon':{'arrows':True, 'tubes':True, 'style':'oval', 'color':'white'}})\n",
    "    view.addSurface(py3Dmol.VDW,{'opacity':0.4,'color':'white'})\n",
    "    \n",
    "    # Add the selected docking pose\n",
    "    pose = poses[pose_index]\n",
    "    print(\"pose is \", pose)\n",
    "    pose_block = Chem.MolToMolBlock(pose)\n",
    "    # color = \"#\"+''.join([random.choice('0123456789ABCDEF') for _ in range(6)])\n",
    "    view.addModel(pose_block, 'mol')\n",
    "    view.setStyle({'model': 1}, {'stick': {'radius': 0.3, 'colorscheme': 'magentaCarbon'}})\n",
    "    view.addSurface(py3Dmol.VDW, {'opacity': 0.7, 'colorscheme': 'magentaCarbon'}, {'model': 1})\n",
    "    score = round(confidence_scores[0][pose_index], 3)\n",
    "    score_color = \"green\" if score > -0.5 else \"blue\" if score >= -1.5 else \"red\"\n",
    "    print(f\"Loaded {ansi_color(ligand_name, 'magenta')} with confidence score: {ansi_color(confidence_scores[0][pose_index], score_color)}\")\n",
    "    view.zoomTo()\n",
    "    return view.update()\n"
   ]
  },
  {
   "cell_type": "code",
   "execution_count": 24,
   "metadata": {},
   "outputs": [
    {
     "name": "stdout",
     "output_type": "stream",
     "text": [
      "sdf_file is  ../data/diffdock_outputs/Ensitrelvir_compound0/pose_6.sdf\n",
      "sdf_file is  ../data/diffdock_outputs/Ensitrelvir_compound0/pose_7.sdf\n",
      "sdf_file is  ../data/diffdock_outputs/Ensitrelvir_compound0/pose_0.sdf\n",
      "sdf_file is  ../data/diffdock_outputs/Ensitrelvir_compound0/pose_8.sdf\n",
      "sdf_file is  ../data/diffdock_outputs/Ensitrelvir_compound0/pose_5.sdf\n",
      "sdf_file is  ../data/diffdock_outputs/Ensitrelvir_compound0/pose_3.sdf\n",
      "sdf_file is  ../data/diffdock_outputs/Ensitrelvir_compound0/pose_2.sdf\n",
      "sdf_file is  ../data/diffdock_outputs/Ensitrelvir_compound0/pose_4.sdf\n",
      "sdf_file is  ../data/diffdock_outputs/Ensitrelvir_compound0/pose_1.sdf\n",
      "sdf_file is  ../data/diffdock_outputs/Ensitrelvir_compound0/pose_9.sdf\n",
      "Number of poses loaded: 10\n"
     ]
    }
   ],
   "source": [
    "\n",
    "# Load the protein model\n",
    "with open(protein_file_path, 'r') as f:\n",
    "    protein_pdb = f.read()\n",
    "\n",
    "# Specify the directory containing the dock poses in SDF format for a specific ligand\n",
    "ligand_name = \"Ensitrelvir_compound0\"\n",
    "directory = diffdock_output_dir + ligand_name\n",
    "poses = load_poses_from_sdf(directory)\n",
    "\n",
    "# Verify the number of poses loaded\n",
    "print(f\"Number of poses loaded: {len(poses)}\")\n"
   ]
  },
  {
   "cell_type": "code",
   "execution_count": 12,
   "metadata": {},
   "outputs": [
    {
     "data": {
      "application/vnd.jupyter.widget-view+json": {
       "model_id": "6f5decd46f5b46e599675977ec230bba",
       "version_major": 2,
       "version_minor": 0
      },
      "text/plain": [
       "interactive(children=(IntSlider(value=0, continuous_update=False, description='Pose:', max=9), Output()), _dom…"
      ]
     },
     "metadata": {},
     "output_type": "display_data"
    },
    {
     "data": {
      "text/plain": [
       "<function __main__.update_viewer(pose_index)>"
      ]
     },
     "execution_count": 12,
     "metadata": {},
     "output_type": "execute_result"
    }
   ],
   "source": [
    "# Load confidence scores from output.json\n",
    "output_json_path = os.path.join(diffdock_output_dir, 'output.json')\n",
    "with open(output_json_path, 'r') as file:\n",
    "    data = json.load(file)\n",
    "    confidence_scores = data['position_confidence']  # list of floats\n",
    "\n",
    "# Create a slider widget\n",
    "pose_slider = widgets.IntSlider(\n",
    "    value=0,\n",
    "    min=0,\n",
    "    max=len(poses) - 1,\n",
    "    step=1,\n",
    "    description='Pose:',\n",
    "    continuous_update=False,\n",
    "    orientation='horizontal',\n",
    "    readout=True,\n",
    "    readout_format='d'\n",
    ")\n",
    "\n",
    "# Link the slider to the viewer update function\n",
    "widgets.interact(update_viewer, pose_index=pose_slider)"
   ]
  },
  {
   "cell_type": "code",
   "execution_count": 21,
   "metadata": {},
   "outputs": [
    {
     "data": {
      "text/plain": [
       "[<rdkit.Chem.rdchem.Mol at 0x7108bb990a50>,\n",
       " <rdkit.Chem.rdchem.Mol at 0x7108bb990eb0>,\n",
       " <rdkit.Chem.rdchem.Mol at 0x7108bb990f20>,\n",
       " <rdkit.Chem.rdchem.Mol at 0x7108bb990f90>,\n",
       " <rdkit.Chem.rdchem.Mol at 0x7108bb991000>,\n",
       " <rdkit.Chem.rdchem.Mol at 0x7108bb991070>,\n",
       " <rdkit.Chem.rdchem.Mol at 0x7108bb9910e0>,\n",
       " <rdkit.Chem.rdchem.Mol at 0x7108bb991150>,\n",
       " <rdkit.Chem.rdchem.Mol at 0x7108bb9911c0>,\n",
       " <rdkit.Chem.rdchem.Mol at 0x7108bb991230>]"
      ]
     },
     "execution_count": 21,
     "metadata": {},
     "output_type": "execute_result"
    }
   ],
   "source": [
    "poses"
   ]
  },
  {
   "cell_type": "code",
   "execution_count": 14,
   "metadata": {},
   "outputs": [
    {
     "data": {
      "text/plain": [
       "[-0.8199455142021179,\n",
       " -0.8673657178878784,\n",
       " -1.1622602939605713,\n",
       " -1.2888742685317993,\n",
       " -1.9154716730117798,\n",
       " -2.044520854949951,\n",
       " -2.985332727432251,\n",
       " -3.2050280570983887,\n",
       " -3.6186628341674805,\n",
       " -4.01269006729126]"
      ]
     },
     "execution_count": 14,
     "metadata": {},
     "output_type": "execute_result"
    }
   ],
   "source": [
    "confidence_scores[0]"
   ]
  },
  {
   "cell_type": "code",
   "execution_count": null,
   "metadata": {},
   "outputs": [],
   "source": []
  },
  {
   "cell_type": "code",
   "execution_count": null,
   "metadata": {},
   "outputs": [],
   "source": []
  }
 ],
 "metadata": {
  "kernelspec": {
   "display_name": "Python 3 (ipykernel)",
   "language": "python",
   "name": "python3"
  },
  "language_info": {
   "codemirror_mode": {
    "name": "ipython",
    "version": 3
   },
   "file_extension": ".py",
   "mimetype": "text/x-python",
   "name": "python",
   "nbconvert_exporter": "python",
   "pygments_lexer": "ipython3",
   "version": "3.10.12"
  }
 },
 "nbformat": 4,
 "nbformat_minor": 4
}

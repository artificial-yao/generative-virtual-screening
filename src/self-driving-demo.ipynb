{
 "cells": [
  {
   "cell_type": "code",
   "execution_count": 1,
   "metadata": {},
   "outputs": [],
   "source": [
    "import requests\n",
    "import os\n",
    "import shutil\n",
    "import json\n",
    "import pandas as pd\n",
    "import yaml\n",
    "\n",
    "import utils, request_models\n",
    "\n",
    "import warnings\n",
    "warnings.filterwarnings('ignore')\n"
   ]
  },
  {
   "cell_type": "code",
   "execution_count": 2,
   "metadata": {},
   "outputs": [
    {
     "name": "stdout",
     "output_type": "stream",
     "text": [
      "File '../data/molmim_generated_molecules.csv' deleted successfully.\n",
      "File '../data/dsmbind_predictions.csv' deleted successfully.\n",
      "File '../data/results.csv' deleted successfully.\n",
      "Round 0\n"
     ]
    },
    {
     "name": "stderr",
     "output_type": "stream",
     "text": [
      "Failed to find the pandas get_adjustment() function to patch\n",
      "Failed to patch pandas - PandasTools will have limited functionality\n"
     ]
    },
    {
     "name": "stdout",
     "output_type": "stream",
     "text": [
      "[NeMo I 2024-12-18 19:21:22 megatron_hiddens:110] Registered hidden transform sampled_var_cond_gaussian at bionemo.model.core.hiddens_support.SampledVarGaussianHiddenTransform\n",
      "[NeMo I 2024-12-18 19:21:22 megatron_hiddens:110] Registered hidden transform interp_var_cond_gaussian at bionemo.model.core.hiddens_support.InterpVarGaussianHiddenTransform\n",
      "[NeMo I 2024-12-18 19:21:23 infer:70] \n",
      "    \n",
      "    ************** Experiment Configuration ***********\n",
      "[NeMo I 2024-12-18 19:21:23 infer:71] \n",
      "    data:\n",
      "      processed: false\n",
      "      raw_inference_data_dir: ${oc.env:BIONEMO_HOME}/generative-virtual-screening/data/dsmbind_inputs\n",
      "      predictions_csv: ${oc.env:BIONEMO_HOME}/generative-virtual-screening/data/dsmbind_predictions.csv\n",
      "      processed_inference_data_path: ${oc.env:BIONEMO_HOME}/examples/tests/test_data/molecule/dsmbind/inference/processed.pkl\n",
      "    model:\n",
      "      hidden_size: 256\n",
      "      mpn_depth: 3\n",
      "      num_heads: 4\n",
      "      dropout: 0.1\n",
      "      threshold: 10.0\n",
      "      vocab_size: 38\n",
      "      aa_size: 21\n",
      "      max_residue_atoms: 14\n",
      "    inference:\n",
      "      num_gpus: 1\n",
      "      ckpt_path: ${oc.env:BIONEMO_HOME}/models/molecule/dsmbind/dsmbind.pth\n",
      "    \n",
      "[NeMo I 2024-12-18 19:21:23 infer:77] ************** Load Trained Model ***********\n",
      "[NeMo I 2024-12-18 19:21:23 infer:84] # Model parameters: 1019136\n",
      "[NeMo I 2024-12-18 19:21:23 infer:96] ************** Processing Inference Dataset ***********\n",
      "'Molecule'\n"
     ]
    },
    {
     "name": "stderr",
     "output_type": "stream",
     "text": [
      "  0%|          | 0/10 [00:00<?, ?it/s]Failed to patch pandas - unable to change molecule rendering\n",
      "Failed to patch pandas - unable to change molecule rendering\n",
      "Failed to patch pandas - unable to change molecule rendering\n",
      "Failed to patch pandas - unable to change molecule rendering\n",
      " 40%|████      | 4/10 [00:00<00:00, 10.32it/s]Failed to patch pandas - unable to change molecule rendering\n",
      "Failed to patch pandas - unable to change molecule rendering\n",
      "Failed to patch pandas - unable to change molecule rendering\n",
      "Failed to patch pandas - unable to change molecule rendering\n",
      "Failed to patch pandas - unable to change molecule rendering\n",
      " 90%|█████████ | 9/10 [00:00<00:00, 20.36it/s]Failed to patch pandas - unable to change molecule rendering\n",
      "100%|██████████| 10/10 [00:00<00:00, 19.14it/s]\n",
      "100%|██████████| 8/8 [00:00<00:00, 775.36it/s]\n"
     ]
    },
    {
     "name": "stdout",
     "output_type": "stream",
     "text": [
      "'Molecule'\n",
      "[NeMo I 2024-12-18 19:21:24 infer:98] ************** Loading Inference Dataset ***********\n",
      "[NeMo I 2024-12-18 19:21:24 infer:106] ************** Starting Inference ***********\n",
      "[NeMo I 2024-12-18 19:21:24 infer:108] Predictions: [-1742725.875, -1473968.25, -1567259.375, -1626483.25, -1125988.75, -1357558.125, -1624152.0, -1667095.5]\n"
     ]
    },
    {
     "data": {
      "text/plain": [
       "0"
      ]
     },
     "execution_count": 2,
     "metadata": {},
     "output_type": "execute_result"
    }
   ],
   "source": [
    "######## File paths ########\n",
    "with open(\"../configs/self-driving-demo.yaml\", \"r\") as f:\n",
    "    config = yaml.safe_load(f)\n",
    "\n",
    "protein_file_path = config['paths']['protein_file_path']\n",
    "diffdock_output_dir = config['paths']['diffdock_output_dir']\n",
    "dsmbind_input_dir = config['paths']['diffdock_output_dir']\n",
    "\n",
    "starting_molecule_csv = config['paths']['starting_molecule_csv']\n",
    "molmim_generated_csv = config['paths']['molmim_generated_csv']\n",
    "dsmbind_predictions_csv = config['paths']['dsmbind_predictions_csv']\n",
    "results_csv = config['paths']['results_csv']\n",
    "\n",
    "utils.prepare_output_directory(diffdock_output_dir)\n",
    "utils.prepare_output_directory(dsmbind_input_dir)\n",
    "\n",
    "utils.delete_datasets(molmim_generated_csv)\n",
    "utils.delete_datasets(dsmbind_predictions_csv)\n",
    "utils.delete_datasets(results_csv)\n",
    "\n",
    "# Get folded protein\n",
    "folded_protein = utils.file_to_json_compatible_string(protein_file_path)\n",
    "\n",
    "# Get starting molecules\n",
    "df_starting_molecules = pd.read_csv(starting_molecule_csv)\n",
    "\n",
    "# Round 0\n",
    "print(\"Round 0\")\n",
    "molecule_name = df_starting_molecules['Molecules'][0]\n",
    "molecule = df_starting_molecules['Smiles'][0]\n",
    "\n",
    "# Molecular Generation with MolMIM\n",
    "molmim_response = request_models.call_molmim(molecule)\n",
    "generated_ligands = '\\n'.join([v['smiles'] for v in molmim_response['generated']])\n",
    "utils.update_dataframe_molmim_generated_molecules(molmim_response['generated'], molecule_name)\n",
    "\n",
    "# Protein-Ligand Docking with DiffDock\n",
    "diffdock_response = request_models.call_diffdock(folded_protein, generated_ligands)\n",
    "utils.create_diffdock_outputs_dsmbind_inputs(molecule_name, diffdock_response)\n",
    "\n",
    "# Binding Affinity with DSMBind\n",
    "os.system(\"python /workspace/bionemo/examples/molecule/dsmbind/infer.py\")\n"
   ]
  },
  {
   "cell_type": "code",
   "execution_count": 3,
   "metadata": {},
   "outputs": [],
   "source": [
    "\n",
    "df_molmim = pd.read_csv(molmim_generated_csv) \n",
    "df_dsmbind = pd.read_csv(dsmbind_predictions_csv)\n",
    "df_joined = pd.concat([df_molmim, df_dsmbind], axis=1)\n",
    "\n",
    "df_joined.to_csv('../data/results.csv')"
   ]
  },
  {
   "cell_type": "code",
   "execution_count": 4,
   "metadata": {},
   "outputs": [],
   "source": [
    "def update_dataframe_molmim_generated_molecules(molmim_generated, \n",
    "                                                starting_molecule_name, \n",
    "                                                molmim_generated_csv = molmim_generated_csv):\n",
    "    import pandas as pd\n",
    "\n",
    "    df = pd.DataFrame(molmim_generated)\n",
    "    # Reset the index and make it a column\n",
    "    df.reset_index(inplace=True)\n",
    "    df.rename(columns={'smiles':'generated_smiles',\n",
    "                    'score':'molmim_qed_score',\n",
    "                    'index':'generated_compound_index'},\n",
    "                    inplace=True)\n",
    "    df['starting_molecule'] = starting_molecule_name\n",
    "\n",
    "    if os.path.exists(molmim_generated_csv):\n",
    "        print(\"The CSV file exists.\")\n",
    "        df_old = pd.read_csv(molmim_generated_csv)\n",
    "        df_merged = pd.concat([df_old, df], ignore_index=True)\n",
    "\n",
    "        df_merged.to_csv(molmim_generated_csv, index=False)\n",
    "    else:\n",
    "        df.to_csv(molmim_generated_csv, index=False)"
   ]
  },
  {
   "cell_type": "code",
   "execution_count": 5,
   "metadata": {},
   "outputs": [
    {
     "name": "stdout",
     "output_type": "stream",
     "text": [
      "Round 1\n",
      "MolMIM...\n",
      "The CSV file exists.\n",
      "DiffDock...\n",
      "DSMBind...\n"
     ]
    },
    {
     "name": "stderr",
     "output_type": "stream",
     "text": [
      "Failed to find the pandas get_adjustment() function to patch\n",
      "Failed to patch pandas - PandasTools will have limited functionality\n"
     ]
    },
    {
     "name": "stdout",
     "output_type": "stream",
     "text": [
      "[NeMo I 2024-12-18 19:22:11 megatron_hiddens:110] Registered hidden transform sampled_var_cond_gaussian at bionemo.model.core.hiddens_support.SampledVarGaussianHiddenTransform\n",
      "[NeMo I 2024-12-18 19:22:11 megatron_hiddens:110] Registered hidden transform interp_var_cond_gaussian at bionemo.model.core.hiddens_support.InterpVarGaussianHiddenTransform\n",
      "[NeMo I 2024-12-18 19:22:12 infer:70] \n",
      "    \n",
      "    ************** Experiment Configuration ***********\n",
      "[NeMo I 2024-12-18 19:22:12 infer:71] \n",
      "    data:\n",
      "      processed: false\n",
      "      raw_inference_data_dir: ${oc.env:BIONEMO_HOME}/generative-virtual-screening/data/dsmbind_inputs\n",
      "      predictions_csv: ${oc.env:BIONEMO_HOME}/generative-virtual-screening/data/dsmbind_predictions.csv\n",
      "      processed_inference_data_path: ${oc.env:BIONEMO_HOME}/examples/tests/test_data/molecule/dsmbind/inference/processed.pkl\n",
      "    model:\n",
      "      hidden_size: 256\n",
      "      mpn_depth: 3\n",
      "      num_heads: 4\n",
      "      dropout: 0.1\n",
      "      threshold: 10.0\n",
      "      vocab_size: 38\n",
      "      aa_size: 21\n",
      "      max_residue_atoms: 14\n",
      "    inference:\n",
      "      num_gpus: 1\n",
      "      ckpt_path: ${oc.env:BIONEMO_HOME}/models/molecule/dsmbind/dsmbind.pth\n",
      "    \n",
      "[NeMo I 2024-12-18 19:22:12 infer:77] ************** Load Trained Model ***********\n",
      "[NeMo I 2024-12-18 19:22:12 infer:84] # Model parameters: 1019136\n",
      "[NeMo I 2024-12-18 19:22:12 infer:96] ************** Processing Inference Dataset ***********\n"
     ]
    },
    {
     "name": "stderr",
     "output_type": "stream",
     "text": [
      "  0%|          | 0/10 [00:00<?, ?it/s]Failed to patch pandas - unable to change molecule rendering\n",
      "Failed to patch pandas - unable to change molecule rendering\n",
      "Failed to patch pandas - unable to change molecule rendering\n",
      "Failed to patch pandas - unable to change molecule rendering\n",
      " 40%|████      | 4/10 [00:00<00:00, 10.45it/s]Failed to patch pandas - unable to change molecule rendering\n",
      "Failed to patch pandas - unable to change molecule rendering\n",
      "Failed to patch pandas - unable to change molecule rendering\n",
      "Failed to patch pandas - unable to change molecule rendering\n",
      "Failed to patch pandas - unable to change molecule rendering\n",
      " 90%|█████████ | 9/10 [00:00<00:00, 20.57it/s]Failed to patch pandas - unable to change molecule rendering\n",
      "100%|██████████| 10/10 [00:00<00:00, 19.34it/s]\n",
      "100%|██████████| 10/10 [00:00<00:00, 792.04it/s]\n"
     ]
    },
    {
     "name": "stdout",
     "output_type": "stream",
     "text": [
      "[NeMo I 2024-12-18 19:22:12 infer:98] ************** Loading Inference Dataset ***********\n",
      "[NeMo I 2024-12-18 19:22:12 infer:106] ************** Starting Inference ***********\n",
      "[NeMo I 2024-12-18 19:22:13 infer:108] Predictions: [-1667492.0, -1742725.875, -1270149.0, -1404532.0, -1567259.375, -1626483.25, -1125988.75, -1631920.5, -1423121.875, -1667095.5]\n",
      "Round 2\n",
      "MolMIM...\n",
      "The CSV file exists.\n",
      "DiffDock...\n",
      "DSMBind...\n"
     ]
    },
    {
     "name": "stderr",
     "output_type": "stream",
     "text": [
      "Failed to find the pandas get_adjustment() function to patch\n",
      "Failed to patch pandas - PandasTools will have limited functionality\n"
     ]
    },
    {
     "name": "stdout",
     "output_type": "stream",
     "text": [
      "[NeMo I 2024-12-18 19:23:00 megatron_hiddens:110] Registered hidden transform sampled_var_cond_gaussian at bionemo.model.core.hiddens_support.SampledVarGaussianHiddenTransform\n",
      "[NeMo I 2024-12-18 19:23:00 megatron_hiddens:110] Registered hidden transform interp_var_cond_gaussian at bionemo.model.core.hiddens_support.InterpVarGaussianHiddenTransform\n",
      "[NeMo I 2024-12-18 19:23:00 infer:70] \n",
      "    \n",
      "    ************** Experiment Configuration ***********\n",
      "[NeMo I 2024-12-18 19:23:00 infer:71] \n",
      "    data:\n",
      "      processed: false\n",
      "      raw_inference_data_dir: ${oc.env:BIONEMO_HOME}/generative-virtual-screening/data/dsmbind_inputs\n",
      "      predictions_csv: ${oc.env:BIONEMO_HOME}/generative-virtual-screening/data/dsmbind_predictions.csv\n",
      "      processed_inference_data_path: ${oc.env:BIONEMO_HOME}/examples/tests/test_data/molecule/dsmbind/inference/processed.pkl\n",
      "    model:\n",
      "      hidden_size: 256\n",
      "      mpn_depth: 3\n",
      "      num_heads: 4\n",
      "      dropout: 0.1\n",
      "      threshold: 10.0\n",
      "      vocab_size: 38\n",
      "      aa_size: 21\n",
      "      max_residue_atoms: 14\n",
      "    inference:\n",
      "      num_gpus: 1\n",
      "      ckpt_path: ${oc.env:BIONEMO_HOME}/models/molecule/dsmbind/dsmbind.pth\n",
      "    \n",
      "[NeMo I 2024-12-18 19:23:00 infer:77] ************** Load Trained Model ***********\n",
      "[NeMo I 2024-12-18 19:23:01 infer:84] # Model parameters: 1019136\n",
      "[NeMo I 2024-12-18 19:23:01 infer:96] ************** Processing Inference Dataset ***********\n"
     ]
    },
    {
     "name": "stderr",
     "output_type": "stream",
     "text": [
      "  0%|          | 0/15 [00:00<?, ?it/s]Failed to patch pandas - unable to change molecule rendering\n",
      "Failed to patch pandas - unable to change molecule rendering\n",
      "Failed to patch pandas - unable to change molecule rendering\n",
      "Failed to patch pandas - unable to change molecule rendering\n",
      " 27%|██▋       | 4/15 [00:00<00:01, 10.34it/s]Failed to patch pandas - unable to change molecule rendering\n",
      "Failed to patch pandas - unable to change molecule rendering\n",
      "Failed to patch pandas - unable to change molecule rendering\n",
      "Failed to patch pandas - unable to change molecule rendering\n",
      "Failed to patch pandas - unable to change molecule rendering\n",
      " 60%|██████    | 9/15 [00:00<00:00, 20.43it/s]Failed to patch pandas - unable to change molecule rendering\n",
      "Failed to patch pandas - unable to change molecule rendering\n",
      "Failed to patch pandas - unable to change molecule rendering\n",
      "Failed to patch pandas - unable to change molecule rendering\n",
      "Failed to patch pandas - unable to change molecule rendering\n",
      " 93%|█████████▎| 14/15 [00:00<00:00, 27.34it/s]Failed to patch pandas - unable to change molecule rendering\n",
      "100%|██████████| 15/15 [00:00<00:00, 23.57it/s]\n",
      "100%|██████████| 15/15 [00:00<00:00, 808.45it/s]\n"
     ]
    },
    {
     "name": "stdout",
     "output_type": "stream",
     "text": [
      "[NeMo I 2024-12-18 19:23:01 infer:98] ************** Loading Inference Dataset ***********\n",
      "[NeMo I 2024-12-18 19:23:01 infer:106] ************** Starting Inference ***********\n",
      "[NeMo I 2024-12-18 19:23:02 infer:108] Predictions: [-1667492.0, -1742725.875, -1270149.0, -1404532.0, -1563523.0, -1567259.375, -1403730.625, -1626483.25, -1125988.75, -1631920.5, -1477082.125, -1622407.875, -1954015.0, -1423121.875, -1667095.5]\n",
      "Round 3\n",
      "MolMIM...\n",
      "The CSV file exists.\n",
      "DiffDock...\n",
      "DSMBind...\n"
     ]
    },
    {
     "name": "stderr",
     "output_type": "stream",
     "text": [
      "Failed to find the pandas get_adjustment() function to patch\n",
      "Failed to patch pandas - PandasTools will have limited functionality\n"
     ]
    },
    {
     "name": "stdout",
     "output_type": "stream",
     "text": [
      "[NeMo I 2024-12-18 19:23:48 megatron_hiddens:110] Registered hidden transform sampled_var_cond_gaussian at bionemo.model.core.hiddens_support.SampledVarGaussianHiddenTransform\n",
      "[NeMo I 2024-12-18 19:23:48 megatron_hiddens:110] Registered hidden transform interp_var_cond_gaussian at bionemo.model.core.hiddens_support.InterpVarGaussianHiddenTransform\n",
      "[NeMo I 2024-12-18 19:23:49 infer:70] \n",
      "    \n",
      "    ************** Experiment Configuration ***********\n",
      "[NeMo I 2024-12-18 19:23:49 infer:71] \n",
      "    data:\n",
      "      processed: false\n",
      "      raw_inference_data_dir: ${oc.env:BIONEMO_HOME}/generative-virtual-screening/data/dsmbind_inputs\n",
      "      predictions_csv: ${oc.env:BIONEMO_HOME}/generative-virtual-screening/data/dsmbind_predictions.csv\n",
      "      processed_inference_data_path: ${oc.env:BIONEMO_HOME}/examples/tests/test_data/molecule/dsmbind/inference/processed.pkl\n",
      "    model:\n",
      "      hidden_size: 256\n",
      "      mpn_depth: 3\n",
      "      num_heads: 4\n",
      "      dropout: 0.1\n",
      "      threshold: 10.0\n",
      "      vocab_size: 38\n",
      "      aa_size: 21\n",
      "      max_residue_atoms: 14\n",
      "    inference:\n",
      "      num_gpus: 1\n",
      "      ckpt_path: ${oc.env:BIONEMO_HOME}/models/molecule/dsmbind/dsmbind.pth\n",
      "    \n",
      "[NeMo I 2024-12-18 19:23:49 infer:77] ************** Load Trained Model ***********\n",
      "[NeMo I 2024-12-18 19:23:49 infer:84] # Model parameters: 1019136\n",
      "[NeMo I 2024-12-18 19:23:49 infer:96] ************** Processing Inference Dataset ***********\n"
     ]
    },
    {
     "name": "stderr",
     "output_type": "stream",
     "text": [
      "  0%|          | 0/20 [00:00<?, ?it/s]Failed to patch pandas - unable to change molecule rendering\n",
      "Failed to patch pandas - unable to change molecule rendering\n",
      "Failed to patch pandas - unable to change molecule rendering\n",
      "Failed to patch pandas - unable to change molecule rendering\n",
      " 20%|██        | 4/20 [00:00<00:01, 10.59it/s]Failed to patch pandas - unable to change molecule rendering\n",
      "Failed to patch pandas - unable to change molecule rendering\n",
      "Failed to patch pandas - unable to change molecule rendering\n",
      "Failed to patch pandas - unable to change molecule rendering\n",
      "Failed to patch pandas - unable to change molecule rendering\n",
      " 45%|████▌     | 9/20 [00:00<00:00, 20.62it/s]Failed to patch pandas - unable to change molecule rendering\n",
      "Failed to patch pandas - unable to change molecule rendering\n",
      "Failed to patch pandas - unable to change molecule rendering\n",
      "Failed to patch pandas - unable to change molecule rendering\n",
      "Failed to patch pandas - unable to change molecule rendering\n",
      " 70%|███████   | 14/20 [00:00<00:00, 27.48it/s]Failed to patch pandas - unable to change molecule rendering\n",
      "Failed to patch pandas - unable to change molecule rendering\n",
      "Failed to patch pandas - unable to change molecule rendering\n",
      "Failed to patch pandas - unable to change molecule rendering\n",
      "Failed to patch pandas - unable to change molecule rendering\n",
      " 95%|█████████▌| 19/20 [00:00<00:00, 32.23it/s]Failed to patch pandas - unable to change molecule rendering\n",
      "100%|██████████| 20/20 [00:00<00:00, 26.78it/s]\n",
      "100%|██████████| 20/20 [00:00<00:00, 819.66it/s]\n"
     ]
    },
    {
     "name": "stdout",
     "output_type": "stream",
     "text": [
      "[NeMo I 2024-12-18 19:23:50 infer:98] ************** Loading Inference Dataset ***********\n",
      "[NeMo I 2024-12-18 19:23:50 infer:106] ************** Starting Inference ***********\n",
      "[NeMo I 2024-12-18 19:23:50 infer:108] Predictions: [-1667492.0, -1742725.875, -1270149.0, -1404532.0, -1563523.0, -1246019.875, -1567259.375, -1403730.625, -1626483.25, -1125988.75, -1631920.5, -1267375.25, -1269627.0, -1477082.125, -1349006.5, -1252324.75, -1622407.875, -1954015.0, -1423121.875, -1667095.5]\n",
      "Round 4\n"
     ]
    },
    {
     "ename": "KeyError",
     "evalue": "4",
     "output_type": "error",
     "traceback": [
      "\u001b[0;31m---------------------------------------------------------------------------\u001b[0m",
      "\u001b[0;31mValueError\u001b[0m                                Traceback (most recent call last)",
      "File \u001b[0;32m~/.local/lib/python3.10/site-packages/pandas/core/indexes/range.py:413\u001b[0m, in \u001b[0;36mRangeIndex.get_loc\u001b[0;34m(self, key)\u001b[0m\n\u001b[1;32m    412\u001b[0m \u001b[38;5;28;01mtry\u001b[39;00m:\n\u001b[0;32m--> 413\u001b[0m     \u001b[38;5;28;01mreturn\u001b[39;00m \u001b[38;5;28;43mself\u001b[39;49m\u001b[38;5;241;43m.\u001b[39;49m\u001b[43m_range\u001b[49m\u001b[38;5;241;43m.\u001b[39;49m\u001b[43mindex\u001b[49m\u001b[43m(\u001b[49m\u001b[43mnew_key\u001b[49m\u001b[43m)\u001b[49m\n\u001b[1;32m    414\u001b[0m \u001b[38;5;28;01mexcept\u001b[39;00m \u001b[38;5;167;01mValueError\u001b[39;00m \u001b[38;5;28;01mas\u001b[39;00m err:\n",
      "\u001b[0;31mValueError\u001b[0m: 4 is not in range",
      "\nThe above exception was the direct cause of the following exception:\n",
      "\u001b[0;31mKeyError\u001b[0m                                  Traceback (most recent call last)",
      "Cell \u001b[0;32mIn[5], line 6\u001b[0m\n\u001b[1;32m      3\u001b[0m rd \u001b[38;5;241m=\u001b[39m rd \u001b[38;5;241m+\u001b[39m \u001b[38;5;241m1\u001b[39m\n\u001b[1;32m      4\u001b[0m \u001b[38;5;28mprint\u001b[39m(\u001b[38;5;124mf\u001b[39m\u001b[38;5;124m\"\u001b[39m\u001b[38;5;124mRound \u001b[39m\u001b[38;5;132;01m{\u001b[39;00mrd\u001b[38;5;132;01m}\u001b[39;00m\u001b[38;5;124m\"\u001b[39m)\n\u001b[0;32m----> 6\u001b[0m molecule_name \u001b[38;5;241m=\u001b[39m \u001b[43mdf_starting_molecules\u001b[49m\u001b[43m[\u001b[49m\u001b[38;5;124;43m'\u001b[39;49m\u001b[38;5;124;43mMolecules\u001b[39;49m\u001b[38;5;124;43m'\u001b[39;49m\u001b[43m]\u001b[49m\u001b[43m[\u001b[49m\u001b[43mrd\u001b[49m\u001b[43m]\u001b[49m\n\u001b[1;32m      7\u001b[0m molecule \u001b[38;5;241m=\u001b[39m df_starting_molecules[\u001b[38;5;124m'\u001b[39m\u001b[38;5;124mSmiles\u001b[39m\u001b[38;5;124m'\u001b[39m][rd]\n\u001b[1;32m      9\u001b[0m \u001b[38;5;66;03m# Molecular Generation with MolMIM\u001b[39;00m\n",
      "File \u001b[0;32m~/.local/lib/python3.10/site-packages/pandas/core/series.py:1121\u001b[0m, in \u001b[0;36mSeries.__getitem__\u001b[0;34m(self, key)\u001b[0m\n\u001b[1;32m   1118\u001b[0m     \u001b[38;5;28;01mreturn\u001b[39;00m \u001b[38;5;28mself\u001b[39m\u001b[38;5;241m.\u001b[39m_values[key]\n\u001b[1;32m   1120\u001b[0m \u001b[38;5;28;01melif\u001b[39;00m key_is_scalar:\n\u001b[0;32m-> 1121\u001b[0m     \u001b[38;5;28;01mreturn\u001b[39;00m \u001b[38;5;28;43mself\u001b[39;49m\u001b[38;5;241;43m.\u001b[39;49m\u001b[43m_get_value\u001b[49m\u001b[43m(\u001b[49m\u001b[43mkey\u001b[49m\u001b[43m)\u001b[49m\n\u001b[1;32m   1123\u001b[0m \u001b[38;5;66;03m# Convert generator to list before going through hashable part\u001b[39;00m\n\u001b[1;32m   1124\u001b[0m \u001b[38;5;66;03m# (We will iterate through the generator there to check for slices)\u001b[39;00m\n\u001b[1;32m   1125\u001b[0m \u001b[38;5;28;01mif\u001b[39;00m is_iterator(key):\n",
      "File \u001b[0;32m~/.local/lib/python3.10/site-packages/pandas/core/series.py:1237\u001b[0m, in \u001b[0;36mSeries._get_value\u001b[0;34m(self, label, takeable)\u001b[0m\n\u001b[1;32m   1234\u001b[0m     \u001b[38;5;28;01mreturn\u001b[39;00m \u001b[38;5;28mself\u001b[39m\u001b[38;5;241m.\u001b[39m_values[label]\n\u001b[1;32m   1236\u001b[0m \u001b[38;5;66;03m# Similar to Index.get_value, but we do not fall back to positional\u001b[39;00m\n\u001b[0;32m-> 1237\u001b[0m loc \u001b[38;5;241m=\u001b[39m \u001b[38;5;28;43mself\u001b[39;49m\u001b[38;5;241;43m.\u001b[39;49m\u001b[43mindex\u001b[49m\u001b[38;5;241;43m.\u001b[39;49m\u001b[43mget_loc\u001b[49m\u001b[43m(\u001b[49m\u001b[43mlabel\u001b[49m\u001b[43m)\u001b[49m\n\u001b[1;32m   1239\u001b[0m \u001b[38;5;28;01mif\u001b[39;00m is_integer(loc):\n\u001b[1;32m   1240\u001b[0m     \u001b[38;5;28;01mreturn\u001b[39;00m \u001b[38;5;28mself\u001b[39m\u001b[38;5;241m.\u001b[39m_values[loc]\n",
      "File \u001b[0;32m~/.local/lib/python3.10/site-packages/pandas/core/indexes/range.py:415\u001b[0m, in \u001b[0;36mRangeIndex.get_loc\u001b[0;34m(self, key)\u001b[0m\n\u001b[1;32m    413\u001b[0m         \u001b[38;5;28;01mreturn\u001b[39;00m \u001b[38;5;28mself\u001b[39m\u001b[38;5;241m.\u001b[39m_range\u001b[38;5;241m.\u001b[39mindex(new_key)\n\u001b[1;32m    414\u001b[0m     \u001b[38;5;28;01mexcept\u001b[39;00m \u001b[38;5;167;01mValueError\u001b[39;00m \u001b[38;5;28;01mas\u001b[39;00m err:\n\u001b[0;32m--> 415\u001b[0m         \u001b[38;5;28;01mraise\u001b[39;00m \u001b[38;5;167;01mKeyError\u001b[39;00m(key) \u001b[38;5;28;01mfrom\u001b[39;00m \u001b[38;5;21;01merr\u001b[39;00m\n\u001b[1;32m    416\u001b[0m \u001b[38;5;28;01mif\u001b[39;00m \u001b[38;5;28misinstance\u001b[39m(key, Hashable):\n\u001b[1;32m    417\u001b[0m     \u001b[38;5;28;01mraise\u001b[39;00m \u001b[38;5;167;01mKeyError\u001b[39;00m(key)\n",
      "\u001b[0;31mKeyError\u001b[0m: 4"
     ]
    }
   ],
   "source": [
    "threshold_binding_affinity = config['threshold_binding_affinity']\n",
    "threshold_for_number_of_selected_molecules = config['threshold_for_number_of_selected_molecules']\n",
    "\n",
    "rd = 0\n",
    "while len(df_joined[df_joined['DSMBind_predictions'] < threshold_binding_affinity]) < 5:\n",
    "    rd = rd + 1\n",
    "    print(f\"Round {rd}\")\n",
    "\n",
    "    molecule_name = df_starting_molecules['Molecules'][rd]\n",
    "    molecule = df_starting_molecules['Smiles'][rd]\n",
    "\n",
    "    # Molecular Generation with MolMIM\n",
    "    print(\"MolMIM...\")\n",
    "    molmim_response = request_models.call_molmim(molecule)\n",
    "    generated_ligands = '\\n'.join([v['smiles'] for v in molmim_response['generated']])\n",
    "    update_dataframe_molmim_generated_molecules(molmim_response['generated'], molecule_name)\n",
    "\n",
    "    # Protein-Ligand Docking with DiffDock\n",
    "    print(\"DiffDock...\")\n",
    "    diffdock_response = request_models.call_diffdock(folded_protein, generated_ligands)\n",
    "    utils.create_diffdock_outputs_dsmbind_inputs(molecule_name, diffdock_response)\n",
    "\n",
    "    # Binding Affinity with DSMBind\n",
    "    print(\"DSMBind...\")\n",
    "    os.system(\"python /workspace/bionemo/examples/molecule/dsmbind/infer.py\")\n",
    "\n",
    "    df_molmim = pd.read_csv(molmim_generated_csv) \n",
    "    df_dsmbind = pd.read_csv(dsmbind_predictions_csv)\n",
    "    df_joined = pd.concat([df_molmim, df_dsmbind], axis=1)\n",
    "\n",
    "    df_joined.to_csv('../data/results.csv')\n"
   ]
  },
  {
   "cell_type": "code",
   "execution_count": 7,
   "metadata": {},
   "outputs": [
    {
     "data": {
      "text/plain": [
       "13"
      ]
     },
     "execution_count": 7,
     "metadata": {},
     "output_type": "execute_result"
    }
   ],
   "source": [
    "len(df_joined[df_joined['DSMBind_predictions'] < -1400000])"
   ]
  },
  {
   "cell_type": "code",
   "execution_count": null,
   "metadata": {},
   "outputs": [],
   "source": [
    "df_joined"
   ]
  },
  {
   "cell_type": "code",
   "execution_count": null,
   "metadata": {},
   "outputs": [],
   "source": []
  }
 ],
 "metadata": {
  "kernelspec": {
   "display_name": "Python 3",
   "language": "python",
   "name": "python3"
  },
  "language_info": {
   "codemirror_mode": {
    "name": "ipython",
    "version": 3
   },
   "file_extension": ".py",
   "mimetype": "text/x-python",
   "name": "python",
   "nbconvert_exporter": "python",
   "pygments_lexer": "ipython3",
   "version": "3.10.12"
  }
 },
 "nbformat": 4,
 "nbformat_minor": 2
}

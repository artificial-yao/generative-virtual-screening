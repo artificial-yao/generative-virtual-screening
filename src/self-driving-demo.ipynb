{
 "cells": [
  {
   "cell_type": "code",
   "execution_count": 11,
   "metadata": {},
   "outputs": [],
   "source": [
    "import requests\n",
    "import os\n",
    "import shutil\n",
    "import json\n",
    "import pandas as pd\n",
    "import yaml\n",
    "\n",
    "import utils, request_models\n",
    "\n",
    "import warnings\n",
    "warnings.filterwarnings('ignore')\n"
   ]
  },
  {
   "cell_type": "code",
   "execution_count": null,
   "metadata": {},
   "outputs": [
    {
     "name": "stdout",
     "output_type": "stream",
     "text": [
      "Round 0\n"
     ]
    }
   ],
   "source": [
    "######## File paths ########\n",
    "with open(\"../configs/self-driving-demo.yaml\", \"r\") as f:\n",
    "    config = yaml.safe_load(f)\n",
    "\n",
    "protein_file_path = config['paths']['protein_file_path']\n",
    "diffdock_output_dir = config['paths']['diffdock_output_dir']\n",
    "dsmbind_input_dir = config['paths']['diffdock_output_dir']\n",
    "\n",
    "starting_molecule_csv = config['paths']['starting_molecule_csv']\n",
    "molmim_generated_csv = config['paths']['molmim_generated_csv']\n",
    "dsmbind_predictions_csv = config['paths']['dsmbind_predictions_csv']\n",
    "\n",
    "utils.prepare_output_directory(diffdock_output_dir)\n",
    "utils.prepare_output_directory(dsmbind_input_dir)\n",
    "\n",
    "# Get folded protein\n",
    "folded_protein = utils.file_to_json_compatible_string(protein_file_path)\n",
    "\n",
    "# Get starting molecules\n",
    "df_starting_molecules = pd.read_csv(starting_molecule_csv)\n",
    "\n",
    "# Round 0\n",
    "print(\"Round 0\")\n",
    "molecule_name = df_starting_molecules['Molecules'][0]\n",
    "molecule = df_starting_molecules['Smiles'][0]\n",
    "\n",
    "# Molecular Generation with MolMIM\n",
    "molmim_response = request_models.call_molmim(molecule)\n",
    "generated_ligands = '\\n'.join([v['smiles'] for v in molmim_response['generated']])\n",
    "utils.update_dataframe_molmim_generated_molecules(molmim_response['generated'], molecule_name)\n",
    "\n",
    "# Protein-Ligand Docking with DiffDock\n",
    "diffdock_response = request_models.call_diffdock(folded_protein, generated_ligands)\n",
    "utils.create_diffdock_outputs_dsmbind_inputs(molecule_name, diffdock_response)\n",
    "\n",
    "# Binding Affinity with DSMBind\n",
    "os.system(\"python /workspace/bionemo/examples/molecule/dsmbind/infer.py\")\n"
   ]
  },
  {
   "cell_type": "code",
   "execution_count": 3,
   "metadata": {},
   "outputs": [],
   "source": [
    "\n",
    "df_molmim = pd.read_csv(molmim_generated_csv) \n",
    "df_dsmbind = pd.read_csv(dsmbind_predictions_csv)\n",
    "df_joined = pd.concat([df_molmim, df_dsmbind], axis=1)\n",
    "\n",
    "df_joined.to_csv('../data/results.csv')"
   ]
  },
  {
   "cell_type": "code",
   "execution_count": 8,
   "metadata": {},
   "outputs": [
    {
     "name": "stdout",
     "output_type": "stream",
     "text": [
      "yes\n"
     ]
    }
   ],
   "source": [
    "if len(df_joined[df_joined['DSMBind_predictions'] < -1600000]) < 5:\n",
    "    print(\"yes\")\n"
   ]
  },
  {
   "cell_type": "code",
   "execution_count": 10,
   "metadata": {},
   "outputs": [
    {
     "data": {
      "text/html": [
       "<div>\n",
       "<style scoped>\n",
       "    .dataframe tbody tr th:only-of-type {\n",
       "        vertical-align: middle;\n",
       "    }\n",
       "\n",
       "    .dataframe tbody tr th {\n",
       "        vertical-align: top;\n",
       "    }\n",
       "\n",
       "    .dataframe thead th {\n",
       "        text-align: right;\n",
       "    }\n",
       "</style>\n",
       "<table border=\"1\" class=\"dataframe\">\n",
       "  <thead>\n",
       "    <tr style=\"text-align: right;\">\n",
       "      <th></th>\n",
       "      <th>generated_compound_index</th>\n",
       "      <th>generated_smiles</th>\n",
       "      <th>molmim_qed_score</th>\n",
       "      <th>starting_molecule</th>\n",
       "      <th>DSMBind_predictions</th>\n",
       "    </tr>\n",
       "  </thead>\n",
       "  <tbody>\n",
       "    <tr>\n",
       "      <th>0</th>\n",
       "      <td>0</td>\n",
       "      <td>CC(C)(C)C(NC(=O)C(F)(F)F)C(=O)NCCc1cccs1</td>\n",
       "      <td>0.867914</td>\n",
       "      <td>Nirmatrelvir</td>\n",
       "      <td>-1491505.625</td>\n",
       "    </tr>\n",
       "    <tr>\n",
       "      <th>1</th>\n",
       "      <td>1</td>\n",
       "      <td>CC(C)(C)C(NC(=O)C(F)(F)F)C(=O)N1CCC(Cc2cccnc2)CC1</td>\n",
       "      <td>0.866885</td>\n",
       "      <td>Nirmatrelvir</td>\n",
       "      <td>-1599875.125</td>\n",
       "    </tr>\n",
       "    <tr>\n",
       "      <th>2</th>\n",
       "      <td>2</td>\n",
       "      <td>CC(C)(C)C(NC(=O)C(F)(F)F)C(=O)N1CC2CC1(c1nc[nH...</td>\n",
       "      <td>0.852227</td>\n",
       "      <td>Nirmatrelvir</td>\n",
       "      <td>-1583344.875</td>\n",
       "    </tr>\n",
       "    <tr>\n",
       "      <th>3</th>\n",
       "      <td>3</td>\n",
       "      <td>CC(C)(C)C(NC(=O)C(F)(F)F)C(=O)N1CC2CC1(C)C2</td>\n",
       "      <td>0.849075</td>\n",
       "      <td>Nirmatrelvir</td>\n",
       "      <td>-1626077.750</td>\n",
       "    </tr>\n",
       "    <tr>\n",
       "      <th>4</th>\n",
       "      <td>4</td>\n",
       "      <td>CC(C)(C)C(NC(=O)C(F)(F)F)C(=O)N1CCO[C@@H](C2CC...</td>\n",
       "      <td>0.848105</td>\n",
       "      <td>Nirmatrelvir</td>\n",
       "      <td>-1756441.375</td>\n",
       "    </tr>\n",
       "  </tbody>\n",
       "</table>\n",
       "</div>"
      ],
      "text/plain": [
       "   generated_compound_index  \\\n",
       "0                         0   \n",
       "1                         1   \n",
       "2                         2   \n",
       "3                         3   \n",
       "4                         4   \n",
       "\n",
       "                                    generated_smiles  molmim_qed_score  \\\n",
       "0           CC(C)(C)C(NC(=O)C(F)(F)F)C(=O)NCCc1cccs1          0.867914   \n",
       "1  CC(C)(C)C(NC(=O)C(F)(F)F)C(=O)N1CCC(Cc2cccnc2)CC1          0.866885   \n",
       "2  CC(C)(C)C(NC(=O)C(F)(F)F)C(=O)N1CC2CC1(c1nc[nH...          0.852227   \n",
       "3        CC(C)(C)C(NC(=O)C(F)(F)F)C(=O)N1CC2CC1(C)C2          0.849075   \n",
       "4  CC(C)(C)C(NC(=O)C(F)(F)F)C(=O)N1CCO[C@@H](C2CC...          0.848105   \n",
       "\n",
       "  starting_molecule  DSMBind_predictions  \n",
       "0      Nirmatrelvir         -1491505.625  \n",
       "1      Nirmatrelvir         -1599875.125  \n",
       "2      Nirmatrelvir         -1583344.875  \n",
       "3      Nirmatrelvir         -1626077.750  \n",
       "4      Nirmatrelvir         -1756441.375  "
      ]
     },
     "execution_count": 10,
     "metadata": {},
     "output_type": "execute_result"
    }
   ],
   "source": [
    "df_joined"
   ]
  },
  {
   "cell_type": "code",
   "execution_count": null,
   "metadata": {},
   "outputs": [],
   "source": []
  }
 ],
 "metadata": {
  "kernelspec": {
   "display_name": "Python 3",
   "language": "python",
   "name": "python3"
  },
  "language_info": {
   "codemirror_mode": {
    "name": "ipython",
    "version": 3
   },
   "file_extension": ".py",
   "mimetype": "text/x-python",
   "name": "python",
   "nbconvert_exporter": "python",
   "pygments_lexer": "ipython3",
   "version": "3.10.12"
  }
 },
 "nbformat": 4,
 "nbformat_minor": 2
}

{
 "cells": [
  {
   "cell_type": "code",
   "execution_count": 11,
   "metadata": {},
   "outputs": [],
   "source": [
    "import requests\n",
    "import os\n",
    "import shutil\n",
    "import json\n",
    "import pandas as pd\n",
    "import yaml\n",
    "\n",
    "import utils, request_models\n",
    "\n",
    "import warnings\n",
    "warnings.filterwarnings('ignore')\n"
   ]
  },
  {
   "cell_type": "code",
   "execution_count": 12,
   "metadata": {},
   "outputs": [
    {
     "name": "stdout",
     "output_type": "stream",
     "text": [
      "Round 0\n"
     ]
    },
    {
     "name": "stderr",
     "output_type": "stream",
     "text": [
      "/usr/local/lib/python3.10/dist-packages/transformers/utils/generic.py:441: FutureWarning: `torch.utils._pytree._register_pytree_node` is deprecated. Please use `torch.utils._pytree.register_pytree_node` instead.\n",
      "  _torch_pytree._register_pytree_node(\n",
      "[NeMo W 2024-12-17 21:15:40 nemo_logging:349] /usr/local/lib/python3.10/dist-packages/megatron/core/tensor_parallel/layers.py:257: FutureWarning: `torch.cuda.amp.custom_fwd(args...)` is deprecated. Please use `torch.amp.custom_fwd(args..., device_type='cuda')` instead.\n",
      "      def forward(\n",
      "    \n",
      "[NeMo W 2024-12-17 21:15:40 nemo_logging:349] /usr/local/lib/python3.10/dist-packages/megatron/core/tensor_parallel/layers.py:268: FutureWarning: `torch.cuda.amp.custom_bwd(args...)` is deprecated. Please use `torch.amp.custom_bwd(args..., device_type='cuda')` instead.\n",
      "      def backward(ctx, grad_output):\n",
      "    \n",
      "[NeMo W 2024-12-17 21:15:40 nemo_logging:349] /usr/local/lib/python3.10/dist-packages/megatron/core/tensor_parallel/layers.py:328: FutureWarning: `torch.cuda.amp.custom_fwd(args...)` is deprecated. Please use `torch.amp.custom_fwd(args..., device_type='cuda')` instead.\n",
      "      def forward(\n",
      "    \n",
      "[NeMo W 2024-12-17 21:15:40 nemo_logging:349] /usr/local/lib/python3.10/dist-packages/megatron/core/tensor_parallel/layers.py:363: FutureWarning: `torch.cuda.amp.custom_bwd(args...)` is deprecated. Please use `torch.amp.custom_bwd(args..., device_type='cuda')` instead.\n",
      "      def backward(ctx, grad_output):\n",
      "    \n",
      "[NeMo W 2024-12-17 21:15:44 nemo_logging:349] /usr/local/lib/python3.10/dist-packages/transformers/utils/generic.py:309: FutureWarning: `torch.utils._pytree._register_pytree_node` is deprecated. Please use `torch.utils._pytree.register_pytree_node` instead.\n",
      "      _torch_pytree._register_pytree_node(\n",
      "    \n",
      "Failed to find the pandas get_adjustment() function to patch\n",
      "Failed to patch pandas - PandasTools will have limited functionality\n",
      "[NeMo W 2024-12-17 21:15:47 nemo_logging:349] /usr/local/lib/python3.10/dist-packages/anndata/utils.py:429: FutureWarning: Importing read_csv from `anndata` is deprecated. Import anndata.io.read_csv instead.\n",
      "      warnings.warn(msg, FutureWarning)\n",
      "    \n",
      "[NeMo W 2024-12-17 21:15:47 nemo_logging:349] /usr/local/lib/python3.10/dist-packages/anndata/utils.py:429: FutureWarning: Importing read_excel from `anndata` is deprecated. Import anndata.io.read_excel instead.\n",
      "      warnings.warn(msg, FutureWarning)\n",
      "    \n",
      "[NeMo W 2024-12-17 21:15:47 nemo_logging:349] /usr/local/lib/python3.10/dist-packages/anndata/utils.py:429: FutureWarning: Importing read_hdf from `anndata` is deprecated. Import anndata.io.read_hdf instead.\n",
      "      warnings.warn(msg, FutureWarning)\n",
      "    \n",
      "[NeMo W 2024-12-17 21:15:47 nemo_logging:349] /usr/local/lib/python3.10/dist-packages/anndata/utils.py:429: FutureWarning: Importing read_loom from `anndata` is deprecated. Import anndata.io.read_loom instead.\n",
      "      warnings.warn(msg, FutureWarning)\n",
      "    \n",
      "[NeMo W 2024-12-17 21:15:47 nemo_logging:349] /usr/local/lib/python3.10/dist-packages/anndata/utils.py:429: FutureWarning: Importing read_mtx from `anndata` is deprecated. Import anndata.io.read_mtx instead.\n",
      "      warnings.warn(msg, FutureWarning)\n",
      "    \n",
      "[NeMo W 2024-12-17 21:15:47 nemo_logging:349] /usr/local/lib/python3.10/dist-packages/anndata/utils.py:429: FutureWarning: Importing read_text from `anndata` is deprecated. Import anndata.io.read_text instead.\n",
      "      warnings.warn(msg, FutureWarning)\n",
      "    \n",
      "[NeMo W 2024-12-17 21:15:47 nemo_logging:349] /usr/local/lib/python3.10/dist-packages/anndata/utils.py:429: FutureWarning: Importing read_umi_tools from `anndata` is deprecated. Import anndata.io.read_umi_tools instead.\n",
      "      warnings.warn(msg, FutureWarning)\n",
      "    \n"
     ]
    },
    {
     "name": "stdout",
     "output_type": "stream",
     "text": [
      "[NeMo I 2024-12-17 21:15:47 megatron_hiddens:110] Registered hidden transform sampled_var_cond_gaussian at bionemo.model.core.hiddens_support.SampledVarGaussianHiddenTransform\n",
      "[NeMo I 2024-12-17 21:15:47 megatron_hiddens:110] Registered hidden transform interp_var_cond_gaussian at bionemo.model.core.hiddens_support.InterpVarGaussianHiddenTransform\n"
     ]
    },
    {
     "name": "stderr",
     "output_type": "stream",
     "text": [
      "[NeMo W 2024-12-17 21:15:48 nemo_logging:349] /usr/local/lib/python3.10/dist-packages/hydra/_internal/hydra.py:119: UserWarning: Future Hydra versions will no longer change working directory at job runtime by default.\n",
      "    See https://hydra.cc/docs/1.2/upgrades/1.1_to_1.2/changes_to_job_working_dir/ for more information.\n",
      "      ret = run_job(\n",
      "    \n"
     ]
    },
    {
     "name": "stdout",
     "output_type": "stream",
     "text": [
      "[NeMo I 2024-12-17 21:15:48 infer:68] \n",
      "    \n",
      "    ************** Experiment Configuration ***********\n",
      "[NeMo I 2024-12-17 21:15:48 infer:69] \n",
      "    data:\n",
      "      processed: false\n",
      "      raw_inference_data_dir: ${oc.env:BIONEMO_HOME}/generative-virtual-screening/data/dsmbind_inputs\n",
      "      predictions_csv: ${oc.env:BIONEMO_HOME}/generative-virtual-screening/data/dsmbind_predictions.csv\n",
      "      processed_inference_data_path: ${oc.env:BIONEMO_HOME}/examples/tests/test_data/molecule/dsmbind/inference/processed.pkl\n",
      "    model:\n",
      "      hidden_size: 256\n",
      "      mpn_depth: 3\n",
      "      num_heads: 4\n",
      "      dropout: 0.1\n",
      "      threshold: 10.0\n",
      "      vocab_size: 38\n",
      "      aa_size: 21\n",
      "      max_residue_atoms: 14\n",
      "    inference:\n",
      "      num_gpus: 1\n",
      "      ckpt_path: ${oc.env:BIONEMO_HOME}/models/molecule/dsmbind/dsmbind.pth\n",
      "    \n",
      "[NeMo I 2024-12-17 21:15:48 infer:75] ************** Load Trained Model ***********\n",
      "[NeMo I 2024-12-17 21:15:48 infer:82] # Model parameters: 1019136\n",
      "[NeMo I 2024-12-17 21:15:48 infer:94] ************** Processing Inference Dataset ***********\n"
     ]
    },
    {
     "name": "stderr",
     "output_type": "stream",
     "text": [
      "  0%|          | 0/5 [00:00<?, ?it/s][NeMo W 2024-12-17 21:15:48 nemo_logging:349] /usr/local/lib/python3.10/dist-packages/Bio/PDB/PDBParser.py:395: PDBConstructionWarning: Ignoring unrecognized record 'END' at line 2332\n",
      "      warnings.warn(\n",
      "    \n",
      "Failed to patch pandas - unable to change molecule rendering\n",
      "[NeMo W 2024-12-17 21:15:48 nemo_logging:349] /usr/local/lib/python3.10/dist-packages/Bio/PDB/PDBParser.py:395: PDBConstructionWarning: Ignoring unrecognized record 'END' at line 2332\n",
      "      warnings.warn(\n",
      "    \n",
      "Failed to patch pandas - unable to change molecule rendering\n",
      "[NeMo W 2024-12-17 21:15:48 nemo_logging:349] /usr/local/lib/python3.10/dist-packages/Bio/PDB/PDBParser.py:395: PDBConstructionWarning: Ignoring unrecognized record 'END' at line 2332\n",
      "      warnings.warn(\n",
      "    \n",
      "Failed to patch pandas - unable to change molecule rendering\n",
      "[NeMo W 2024-12-17 21:15:48 nemo_logging:349] /usr/local/lib/python3.10/dist-packages/Bio/PDB/PDBParser.py:395: PDBConstructionWarning: Ignoring unrecognized record 'END' at line 2332\n",
      "      warnings.warn(\n",
      "    \n",
      "Failed to patch pandas - unable to change molecule rendering\n",
      " 80%|████████  | 4/5 [00:00<00:00, 10.09it/s][NeMo W 2024-12-17 21:15:48 nemo_logging:349] /usr/local/lib/python3.10/dist-packages/Bio/PDB/PDBParser.py:395: PDBConstructionWarning: Ignoring unrecognized record 'END' at line 2332\n",
      "      warnings.warn(\n",
      "    \n",
      "Failed to patch pandas - unable to change molecule rendering\n",
      "100%|██████████| 5/5 [00:00<00:00, 11.93it/s]\n",
      "100%|██████████| 4/4 [00:00<00:00, 730.87it/s]\n"
     ]
    },
    {
     "name": "stdout",
     "output_type": "stream",
     "text": [
      "'Molecule'\n",
      "[NeMo I 2024-12-17 21:15:48 infer:96] ************** Loading Inference Dataset ***********\n",
      "[NeMo I 2024-12-17 21:15:48 infer:104] ************** Starting Inference ***********\n",
      "[NeMo I 2024-12-17 21:15:49 infer:106] Predictions: [-1515169.5, -1443176.625, -1517427.75, -1491821.375]\n"
     ]
    },
    {
     "data": {
      "text/plain": [
       "0"
      ]
     },
     "execution_count": 12,
     "metadata": {},
     "output_type": "execute_result"
    }
   ],
   "source": [
    "######## File paths ########\n",
    "with open(\"../configs/self-driving-demo.yaml\", \"r\") as f:\n",
    "    config = yaml.safe_load(f)\n",
    "\n",
    "protein_file_path = config['paths']['protein_file_path']\n",
    "diffdock_output_dir = config['paths']['diffdock_output_dir']\n",
    "dsmbind_input_dir = config['paths']['diffdock_output_dir']\n",
    "\n",
    "starting_molecule_csv = config['paths']['starting_molecule_csv']\n",
    "molmim_generated_csv = config['paths']['molmim_generated_csv']\n",
    "dsmbind_predictions_csv = config['paths']['dsmbind_predictions_csv']\n",
    "\n",
    "utils.prepare_output_directory(diffdock_output_dir)\n",
    "utils.prepare_output_directory(dsmbind_input_dir)\n",
    "\n",
    "# Get folded protein\n",
    "folded_protein = utils.file_to_json_compatible_string(protein_file_path)\n",
    "\n",
    "# Get starting molecules\n",
    "df_starting_molecules = pd.read_csv(starting_molecule_csv)\n",
    "\n",
    "# Round 0\n",
    "print(\"Round 0\")\n",
    "molecule_name = df_starting_molecules['Molecules'][0]\n",
    "molecule = df_starting_molecules['Smiles'][0]\n",
    "\n",
    "# Molecular Generation with MolMIM\n",
    "molmim_response = request_models.call_molmim(molecule)\n",
    "generated_ligands = '\\n'.join([v['smiles'] for v in molmim_response['generated']])\n",
    "utils.update_dataframe_molmim_generated_molecules(molmim_response['generated'], molecule_name)\n",
    "\n",
    "# Protein-Ligand Docking with DiffDock\n",
    "diffdock_response = request_models.call_diffdock(folded_protein, generated_ligands)\n",
    "utils.create_diffdock_outputs_dsmbind_inputs(molecule_name, diffdock_response)\n",
    "\n",
    "# Binding Affinity with DSMBind\n",
    "os.system(\"python /workspace/bionemo/examples/molecule/dsmbind/infer.py\")\n"
   ]
  },
  {
   "cell_type": "code",
   "execution_count": 3,
   "metadata": {},
   "outputs": [],
   "source": [
    "\n",
    "df_molmim = pd.read_csv(molmim_generated_csv) \n",
    "df_dsmbind = pd.read_csv(dsmbind_predictions_csv)\n",
    "df_joined = pd.concat([df_molmim, df_dsmbind], axis=1)\n",
    "\n",
    "df_joined.to_csv('../data/results.csv')"
   ]
  },
  {
   "cell_type": "code",
   "execution_count": 20,
   "metadata": {},
   "outputs": [],
   "source": [
    "def update_dataframe_molmim_generated_molecules(molmim_generated, \n",
    "                                                starting_molecule_name, \n",
    "                                                molmim_generated_csv = molmim_generated_csv):\n",
    "    import pandas as pd\n",
    "\n",
    "    df = pd.DataFrame(molmim_generated)\n",
    "    # Reset the index and make it a column\n",
    "    df.reset_index(inplace=True)\n",
    "    df.rename(columns={'smiles':'generated_smiles',\n",
    "                    'score':'molmim_qed_score',\n",
    "                    'index':'generated_compound_index'},\n",
    "                    inplace=True)\n",
    "    df['starting_molecule'] = starting_molecule_name\n",
    "\n",
    "    if os.path.exists(molmim_generated_csv):\n",
    "        print(\"The CSV file exists.\")\n",
    "        df_old = pd.read_csv(molmim_generated_csv)\n",
    "        df_merged = pd.concat([df_old, df], ignore_index=True)\n",
    "\n",
    "        df_merged.to_csv(molmim_generated_csv, index=False)\n",
    "    else:\n",
    "        df.to_csv(molmim_generated_csv, index=False)\n",
    "\n",
    "        \n",
    "\n",
    "    "
   ]
  },
  {
   "cell_type": "code",
   "execution_count": null,
   "metadata": {},
   "outputs": [
    {
     "name": "stdout",
     "output_type": "stream",
     "text": [
      "Round 1\n",
      "MolMIM...\n"
     ]
    }
   ],
   "source": [
    "rd = 0\n",
    "if len(df_joined[df_joined['DSMBind_predictions'] < -1600000]) < 5:\n",
    "    rd = rd + 1\n",
    "    print(f\"Round {rd}\")\n",
    "\n",
    "    molecule_name = df_starting_molecules['Molecules'][rd]\n",
    "    molecule = df_starting_molecules['Smiles'][rd]\n",
    "\n",
    "    # Molecular Generation with MolMIM\n",
    "    print(\"MolMIM...\")\n",
    "    molmim_response = request_models.call_molmim(molecule)\n",
    "    generated_ligands = '\\n'.join([v['smiles'] for v in molmim_response['generated']])\n",
    "    update_dataframe_molmim_generated_molecules(molmim_response['generated'], molecule_name)\n",
    "\n",
    "    # Protein-Ligand Docking with DiffDock\n",
    "    print(\"DiffDock...\")\n",
    "    diffdock_response = request_models.call_diffdock(folded_protein, generated_ligands)\n",
    "    utils.create_diffdock_outputs_dsmbind_inputs(molecule_name, diffdock_response)\n",
    "\n",
    "    # Binding Affinity with DSMBind\n",
    "    print(\"DSMBind...\")\n",
    "    os.system(\"python /workspace/bionemo/examples/molecule/dsmbind/infer.py\")\n",
    "\n",
    "    df_molmim = pd.read_csv(molmim_generated_csv) \n",
    "    df_dsmbind = pd.read_csv(dsmbind_predictions_csv)\n",
    "    df_joined = pd.concat([df_molmim, df_dsmbind], axis=1)\n",
    "\n",
    "    df_joined.to_csv('../data/results.csv')\n"
   ]
  },
  {
   "cell_type": "code",
   "execution_count": 17,
   "metadata": {},
   "outputs": [
    {
     "data": {
      "text/plain": [
       "[{'smiles': 'CC(C)(C)C(NCc1cnn(CC(F)F)c1)C(C)(C)C',\n",
       "  'score': 0.8946356255903143},\n",
       " {'smiles': 'CC(C)(C)C(NC(=O)C(F)(F)F)C(C)(C)C(=O)N1C[C@@H]2[C@@H](C1)C2(C)C',\n",
       "  'score': 0.8380480056463188},\n",
       " {'smiles': 'CC(C)(C)C(NC(=O)C(F)(F)F)C(=O)N1CC2(CCOC2)C1',\n",
       "  'score': 0.8342971068120115},\n",
       " {'smiles': 'CC(C)(C)C(NC(=O)C(F)(F)F)C(=O)N1CC2(CCOC2)C1',\n",
       "  'score': 0.8342971068120115},\n",
       " {'smiles': 'CC(C)(C)C(NC(=O)C(F)(F)F)C(=O)N1CC2(CCOC2)C1',\n",
       "  'score': 0.8342971068120115}]"
      ]
     },
     "execution_count": 17,
     "metadata": {},
     "output_type": "execute_result"
    }
   ],
   "source": [
    "molmim_response['generated']"
   ]
  },
  {
   "cell_type": "code",
   "execution_count": 18,
   "metadata": {},
   "outputs": [
    {
     "data": {
      "text/plain": [
       "[{'smiles': 'CC(C)(C)C(NCc1cnn(CC(F)F)c1)C(C)(C)C',\n",
       "  'score': 0.8946356255903143},\n",
       " {'smiles': 'CC(C)(C)C(NC(=O)C(F)(F)F)C(C)(C)C(=O)N1C[C@@H]2[C@@H](C1)C2(C)C',\n",
       "  'score': 0.8380480056463188},\n",
       " {'smiles': 'CC(C)(C)C(NC(=O)C(F)(F)F)C(=O)N1CC2(CCOC2)C1',\n",
       "  'score': 0.8342971068120115},\n",
       " {'smiles': 'CC(C)(C)C(NC(=O)C(F)(F)F)C(=O)N1CC2(CCOC2)C1',\n",
       "  'score': 0.8342971068120115},\n",
       " {'smiles': 'CC(C)(C)C(NC(=O)C(F)(F)F)C(=O)N1CC2(CCOC2)C1',\n",
       "  'score': 0.8342971068120115}]"
      ]
     },
     "execution_count": 18,
     "metadata": {},
     "output_type": "execute_result"
    }
   ],
   "source": [
    "df_tmp = pd.DataFrame()\n",
    "df_tmp = molmim_response['generated']\n",
    "df_tmp"
   ]
  },
  {
   "cell_type": "code",
   "execution_count": null,
   "metadata": {},
   "outputs": [],
   "source": []
  }
 ],
 "metadata": {
  "kernelspec": {
   "display_name": "Python 3",
   "language": "python",
   "name": "python3"
  },
  "language_info": {
   "codemirror_mode": {
    "name": "ipython",
    "version": 3
   },
   "file_extension": ".py",
   "mimetype": "text/x-python",
   "name": "python",
   "nbconvert_exporter": "python",
   "pygments_lexer": "ipython3",
   "version": "3.10.12"
  }
 },
 "nbformat": 4,
 "nbformat_minor": 2
}
